{
 "cells": [
  {
   "cell_type": "code",
   "execution_count": 40,
   "id": "3e350d56-b771-4f74-ac24-ed11186c535f",
   "metadata": {},
   "outputs": [],
   "source": [
    "import numpy as np\n",
    "import pandas as pd\n",
    "import statsmodels.api as sm\n",
    "from ISLP import load_data\n",
    "from ISLP.models import (ModelSpec as MS,\n",
    "summarize,\n",
    "poly)\n",
    "from sklearn.model_selection import train_test_split"
   ]
  },
  {
   "cell_type": "code",
   "execution_count": 2,
   "id": "2c5f5133-5a49-4987-8e15-bb21633fe612",
   "metadata": {},
   "outputs": [],
   "source": [
    "from functools import partial\n",
    "from sklearn.model_selection import \\\n",
    "(cross_validate,\n",
    "KFold,\n",
    "ShuffleSplit)\n",
    "from sklearn.base import clone\n",
    "from ISLP.models import sklearn_sm"
   ]
  },
  {
   "cell_type": "code",
   "execution_count": null,
   "id": "04588276-e5ee-4ec8-9873-f9bc2c683488",
   "metadata": {},
   "outputs": [],
   "source": []
  },
  {
   "cell_type": "markdown",
   "id": "4843fe64-6d52-4574-b462-0bd582e6546f",
   "metadata": {},
   "source": [
    "# VS approach"
   ]
  },
  {
   "cell_type": "code",
   "execution_count": 4,
   "id": "54702894-c903-47b1-9637-a69c8527231a",
   "metadata": {},
   "outputs": [],
   "source": [
    "Auto = load_data('Auto')\n",
    "Auto_train, Auto_valid = train_test_split(Auto,\n",
    "                                          test_size=int(Auto.shape[0]/2),\n",
    "                                          random_state=0)"
   ]
  },
  {
   "cell_type": "code",
   "execution_count": 5,
   "id": "e483e5eb-9a3c-42b2-8004-a6322a39ce0c",
   "metadata": {},
   "outputs": [],
   "source": [
    "# Fit linear regression with training set\n",
    "hp_mm = MS(['horsepower'])\n",
    "X_train = hp_mm.fit_transform(Auto_train)\n",
    "y_train = Auto_train['mpg']\n",
    "model = sm.OLS(y_train, X_train)\n",
    "results = model.fit()"
   ]
  },
  {
   "cell_type": "code",
   "execution_count": 7,
   "id": "e6a86f8f-bd2b-4292-8c33-0fe1b0bd51d9",
   "metadata": {},
   "outputs": [
    {
     "data": {
      "text/plain": [
       "23.61661706966988"
      ]
     },
     "execution_count": 7,
     "metadata": {},
     "output_type": "execute_result"
    }
   ],
   "source": [
    "X_valid = hp_mm.transform(Auto_valid)\n",
    "y_valid = Auto_valid['mpg']\n",
    "valid_pred = results.predict(X_valid)\n",
    "np.mean((y_valid - valid_pred)**2) # Validation MSE of our model - estimate of true MSE"
   ]
  },
  {
   "cell_type": "code",
   "execution_count": 8,
   "id": "65276168-8b60-4cad-a667-685b19756579",
   "metadata": {},
   "outputs": [],
   "source": [
    "def evalMSE(terms,\n",
    "            response,\n",
    "            train,\n",
    "            test):\n",
    "    mm = MS(terms)\n",
    "    X_train = mm.fit_transform(train)\n",
    "    y_train = train[response]\n",
    "    X_test = mm.transform(test)\n",
    "    y_test = test[response]\n",
    "    results = sm.OLS(y_train, X_train).fit()\n",
    "    test_pred = results.predict(X_test)\n",
    "    return np.mean((y_test - test_pred)**2)"
   ]
  },
  {
   "cell_type": "code",
   "execution_count": 9,
   "id": "2d64c248-2d1a-4085-aebd-e80b46437d67",
   "metadata": {},
   "outputs": [
    {
     "data": {
      "text/plain": [
       "array([23.61661707, 18.76303135, 18.79694163])"
      ]
     },
     "execution_count": 9,
     "metadata": {},
     "output_type": "execute_result"
    }
   ],
   "source": [
    "MSE = np.zeros(3)\n",
    "for idx, degree in enumerate(range(1, 4)):\n",
    "    MSE[idx] = evalMSE([poly('horsepower', degree)],\n",
    "    'mpg',\n",
    "    Auto_train,\n",
    "    Auto_valid)\n",
    "MSE"
   ]
  },
  {
   "cell_type": "code",
   "execution_count": 12,
   "id": "2829786d-ea1d-4e27-a3f7-16d8534c5554",
   "metadata": {},
   "outputs": [
    {
     "data": {
      "text/plain": [
       "array([20.75540796, 16.94510676, 16.97437833])"
      ]
     },
     "execution_count": 12,
     "metadata": {},
     "output_type": "execute_result"
    }
   ],
   "source": [
    "Auto_train, Auto_valid = train_test_split(Auto,\n",
    "                                          test_size=196,\n",
    "                                          random_state=3) # Different split.\n",
    "MSE = np.zeros(3)\n",
    "for idx, degree in enumerate(range(1, 4)):\n",
    "    MSE[idx] = evalMSE([poly('horsepower', degree)], # Degrees tested: 1,2,3\n",
    "                       'mpg',\n",
    "                       Auto_train,\n",
    "                       Auto_valid)\n",
    "MSE"
   ]
  },
  {
   "cell_type": "markdown",
   "id": "b51534c2-a889-4aa7-8c87-7958cb555b87",
   "metadata": {},
   "source": [
    "# CV approach - sklearn"
   ]
  },
  {
   "cell_type": "code",
   "execution_count": 13,
   "id": "caf2b20e-1db1-4ff3-95dc-a3a3deac5248",
   "metadata": {},
   "outputs": [],
   "source": [
    "# ISLP provides with a wrapper, sklearn_sm(), that enables us to easily use the cross-validation tools of sklearn with models fit by statsmodels"
   ]
  },
  {
   "cell_type": "code",
   "execution_count": 14,
   "id": "2ebb65f4-8b7c-43c3-8e5e-825cabf4ad1b",
   "metadata": {},
   "outputs": [],
   "source": [
    "# It can take two additional optional arguments: model_str which can be used to specify a formula, and model_args which should be a dictionary of additional arguments used when fitting the model"
   ]
  },
  {
   "cell_type": "code",
   "execution_count": 17,
   "id": "690403e7-558c-499f-8853-15806515639d",
   "metadata": {},
   "outputs": [
    {
     "data": {
      "text/plain": [
       "24.231513517929216"
      ]
     },
     "execution_count": 17,
     "metadata": {},
     "output_type": "execute_result"
    }
   ],
   "source": [
    "hp_model = sklearn_sm(sm.OLS,\n",
    "                      MS(['horsepower']))\n",
    "\n",
    "X, Y = Auto.drop(columns=['mpg']), Auto['mpg']\n",
    "\n",
    "cv_results = cross_validate(hp_model, # an object with the appropriate fit(), predict(), and score() methods\n",
    "                            X,\n",
    "                            Y,\n",
    "                            cv=Auto.shape[0]) # Our K. As K=n here, we are applying LOOCV\n",
    "cv_err = np.mean(cv_results['test_score'])\n",
    "cv_err"
   ]
  },
  {
   "cell_type": "code",
   "execution_count": 18,
   "id": "86f223b8-745c-46fd-83c4-4fb3a46ca370",
   "metadata": {
    "collapsed": true,
    "jupyter": {
     "outputs_hidden": true
    }
   },
   "outputs": [
    {
     "data": {
      "text/plain": [
       "{'fit_time': array([0.0073843 , 0.00432014, 0.01768398, 0.01152992, 0.01166439,\n",
       "        0.00457335, 0.01327014, 0.01237726, 0.01612473, 0.01587605,\n",
       "        0.        , 0.01581407, 0.01879883, 0.0130024 , 0.00847316,\n",
       "        0.01106977, 0.00747442, 0.        , 0.        , 0.01002908,\n",
       "        0.00174212, 0.01614571, 0.01617146, 0.01580119, 0.00802422,\n",
       "        0.0068171 , 0.00907397, 0.0160656 , 0.01610947, 0.        ,\n",
       "        0.        , 0.02428102, 0.00955105, 0.00160861, 0.        ,\n",
       "        0.        , 0.        , 0.        , 0.01608086, 0.        ,\n",
       "        0.        , 0.01596427, 0.01610518, 0.01595998, 0.01586843,\n",
       "        0.00636387, 0.        , 0.01740456, 0.01473856, 0.01002741,\n",
       "        0.        , 0.        , 0.01567435, 0.01096988, 0.00501657,\n",
       "        0.        , 0.        , 0.01588964, 0.0137918 , 0.01249528,\n",
       "        0.01052451, 0.01254725, 0.01003623, 0.01174688, 0.01034522,\n",
       "        0.00967431, 0.01106071, 0.00724578, 0.00544477, 0.00552511,\n",
       "        0.00625134, 0.00360203, 0.00508142, 0.        , 0.01452208,\n",
       "        0.        , 0.01458502, 0.0014534 , 0.        , 0.01830912,\n",
       "        0.00811195, 0.        , 0.00393367, 0.        , 0.01455855,\n",
       "        0.        , 0.        , 0.00270128, 0.        , 0.01694822,\n",
       "        0.0043993 , 0.0042367 , 0.00579   , 0.00457549, 0.004776  ,\n",
       "        0.        , 0.00996542, 0.00266171, 0.02301359, 0.00627565,\n",
       "        0.01910257, 0.01280236, 0.00490832, 0.01861596, 0.01253676,\n",
       "        0.        , 0.01614213, 0.0159688 , 0.        , 0.        ,\n",
       "        0.        , 0.        , 0.        , 0.        , 0.00750613,\n",
       "        0.00849891, 0.        , 0.        , 0.01591563, 0.        ,\n",
       "        0.        , 0.01604772, 0.        , 0.        , 0.        ,\n",
       "        0.00975037, 0.00627112, 0.        , 0.01177311, 0.        ,\n",
       "        0.01571202, 0.01583838, 0.01594591, 0.        , 0.        ,\n",
       "        0.        , 0.        , 0.        , 0.        , 0.01556301,\n",
       "        0.01615858, 0.01593018, 0.01566625, 0.        , 0.        ,\n",
       "        0.        , 0.0159862 , 0.01107883, 0.        , 0.        ,\n",
       "        0.02457452, 0.01238155, 0.00461316, 0.00464916, 0.0097928 ,\n",
       "        0.01025796, 0.00816917, 0.01084256, 0.01188612, 0.00883007,\n",
       "        0.00807261, 0.00424862, 0.00628495, 0.00322556, 0.00627995,\n",
       "        0.00898862, 0.00961661, 0.00448823, 0.        , 0.        ,\n",
       "        0.01604557, 0.        , 0.01587129, 0.        , 0.        ,\n",
       "        0.01811719, 0.01410294, 0.01104069, 0.01597524, 0.        ,\n",
       "        0.01609945, 0.        , 0.01587892, 0.        , 0.        ,\n",
       "        0.01604652, 0.00657988, 0.        , 0.        , 0.0160017 ,\n",
       "        0.        , 0.        , 0.01598859, 0.        , 0.        ,\n",
       "        0.01608586, 0.        , 0.01571441, 0.        , 0.        ,\n",
       "        0.        , 0.        , 0.00209212, 0.        , 0.        ,\n",
       "        0.        , 0.01595044, 0.01585817, 0.01539469, 0.01214576,\n",
       "        0.01333261, 0.00910592, 0.01117063, 0.01011419, 0.00728154,\n",
       "        0.00538683, 0.01260757, 0.01196456, 0.0122478 , 0.01226759,\n",
       "        0.0074501 , 0.00450993, 0.00532413, 0.00510049, 0.00329161,\n",
       "        0.02177024, 0.00904155, 0.00853634, 0.        , 0.01391912,\n",
       "        0.010782  , 0.0099411 , 0.01050019, 0.00654483, 0.00598788,\n",
       "        0.00458074, 0.00543499, 0.00512743, 0.00504827, 0.00526309,\n",
       "        0.00418353, 0.00437641, 0.00338721, 0.00414014, 0.00506258,\n",
       "        0.01228738, 0.01116943, 0.01020241, 0.01120853, 0.01123309,\n",
       "        0.01002836, 0.00900984, 0.00739479, 0.00527644, 0.0042212 ,\n",
       "        0.00548029, 0.00366068, 0.0032258 , 0.00669193, 0.0186882 ,\n",
       "        0.01041651, 0.00967312, 0.        , 0.        , 0.        ,\n",
       "        0.00997186, 0.0017426 , 0.01579642, 0.01602221, 0.01583457,\n",
       "        0.        , 0.        , 0.        , 0.        , 0.        ,\n",
       "        0.        , 0.01052332, 0.        , 0.        , 0.        ,\n",
       "        0.01578784, 0.        , 0.        , 0.        , 0.        ,\n",
       "        0.        , 0.        , 0.01599789, 0.        , 0.        ,\n",
       "        0.01603007, 0.        , 0.        , 0.01600862, 0.01585245,\n",
       "        0.        , 0.        , 0.01612043, 0.        , 0.01599956,\n",
       "        0.        , 0.        , 0.01594162, 0.01591921, 0.01003265,\n",
       "        0.00330067, 0.        , 0.0160923 , 0.0160532 , 0.01609111,\n",
       "        0.        , 0.        , 0.        , 0.        , 0.        ,\n",
       "        0.00891018, 0.00889111, 0.00301147, 0.01593971, 0.01793718,\n",
       "        0.00976777, 0.01003051, 0.00903654, 0.00890851, 0.01722908,\n",
       "        0.01457596, 0.00263   , 0.00242758, 0.00596976, 0.01671743,\n",
       "        0.01667738, 0.0209198 , 0.00762248, 0.        , 0.0041461 ,\n",
       "        0.01380014, 0.01232386, 0.        , 0.01449227, 0.00421906,\n",
       "        0.00464749, 0.01306891, 0.00737834, 0.0086    , 0.01810169,\n",
       "        0.00653195, 0.00471807, 0.00320315, 0.00226831, 0.        ,\n",
       "        0.01786661, 0.00460649, 0.00421953, 0.00635338, 0.        ,\n",
       "        0.01944661, 0.01037049, 0.010571  , 0.00709748, 0.00812173,\n",
       "        0.0074923 , 0.00502872, 0.00403285, 0.01032782, 0.00983071,\n",
       "        0.00899649, 0.00531292, 0.00410581, 0.00830364, 0.00955558,\n",
       "        0.01067257, 0.00993228, 0.01058125, 0.0087502 , 0.00848007,\n",
       "        0.00594926, 0.00562954, 0.00405025, 0.00403595, 0.00438285,\n",
       "        0.0040226 , 0.00401616, 0.00446486, 0.00403523, 0.00431681,\n",
       "        0.00401926, 0.00401878, 0.00555778, 0.00503802, 0.0040195 ,\n",
       "        0.00433326, 0.00353026]),\n",
       " 'score_time': array([0.00155568, 0.00251341, 0.00461435, 0.00308704, 0.00201154,\n",
       "        0.01866674, 0.00547099, 0.        , 0.        , 0.01588154,\n",
       "        0.01612282, 0.        , 0.        , 0.00474286, 0.00201726,\n",
       "        0.00214481, 0.        , 0.01503682, 0.        , 0.00200605,\n",
       "        0.        , 0.        , 0.        , 0.0020082 , 0.00374889,\n",
       "        0.        , 0.        , 0.        , 0.        , 0.01593256,\n",
       "        0.        , 0.00349402, 0.00355244, 0.        , 0.01305485,\n",
       "        0.        , 0.        , 0.        , 0.        , 0.        ,\n",
       "        0.        , 0.        , 0.        , 0.        , 0.        ,\n",
       "        0.00959539, 0.        , 0.        , 0.00359988, 0.00200796,\n",
       "        0.0160408 , 0.        , 0.        , 0.        , 0.        ,\n",
       "        0.        , 0.        , 0.        , 0.00315952, 0.00244784,\n",
       "        0.0031786 , 0.0034008 , 0.00435615, 0.00186467, 0.00276017,\n",
       "        0.00266075, 0.00217438, 0.00110292, 0.00213361, 0.00128317,\n",
       "        0.00104022, 0.00212884, 0.00101256, 0.        , 0.        ,\n",
       "        0.        , 0.0012939 , 0.        , 0.        , 0.00469756,\n",
       "        0.        , 0.01408553, 0.        , 0.        , 0.00101805,\n",
       "        0.        , 0.0138154 , 0.        , 0.        , 0.00122786,\n",
       "        0.00104475, 0.00105739, 0.00215316, 0.00104809, 0.00194836,\n",
       "        0.01644254, 0.00293422, 0.        , 0.00321054, 0.        ,\n",
       "        0.0031569 , 0.00498199, 0.        , 0.        , 0.01580596,\n",
       "        0.        , 0.        , 0.        , 0.        , 0.01597834,\n",
       "        0.        , 0.        , 0.01604486, 0.        , 0.        ,\n",
       "        0.        , 0.        , 0.        , 0.        , 0.        ,\n",
       "        0.        , 0.        , 0.        , 0.01596212, 0.        ,\n",
       "        0.        , 0.        , 0.01609707, 0.00424576, 0.        ,\n",
       "        0.        , 0.        , 0.        , 0.        , 0.        ,\n",
       "        0.        , 0.01593852, 0.01639748, 0.        , 0.        ,\n",
       "        0.        , 0.        , 0.        , 0.01609993, 0.        ,\n",
       "        0.        , 0.00466347, 0.        , 0.01598334, 0.        ,\n",
       "        0.        , 0.00211453, 0.00105262, 0.00349355, 0.00214171,\n",
       "        0.00200367, 0.00610352, 0.00281191, 0.00226879, 0.00199318,\n",
       "        0.00223064, 0.00134969, 0.00136232, 0.00105786, 0.00200748,\n",
       "        0.0029912 , 0.00217056, 0.        , 0.        , 0.        ,\n",
       "        0.        , 0.        , 0.        , 0.        , 0.        ,\n",
       "        0.        , 0.00500584, 0.        , 0.        , 0.        ,\n",
       "        0.        , 0.        , 0.        , 0.        , 0.        ,\n",
       "        0.00957561, 0.        , 0.        , 0.        , 0.        ,\n",
       "        0.        , 0.        , 0.        , 0.        , 0.        ,\n",
       "        0.        , 0.        , 0.        , 0.        , 0.01588941,\n",
       "        0.        , 0.01370025, 0.        , 0.        , 0.01577878,\n",
       "        0.        , 0.        , 0.        , 0.00428796, 0.00401497,\n",
       "        0.00361729, 0.00300622, 0.00342917, 0.00311255, 0.0021553 ,\n",
       "        0.00345945, 0.00398707, 0.00299001, 0.0032928 , 0.0028646 ,\n",
       "        0.00107479, 0.00212264, 0.00104523, 0.00299382, 0.        ,\n",
       "        0.00298953, 0.00324416, 0.        , 0.01493239, 0.00237346,\n",
       "        0.00322509, 0.00212717, 0.00255537, 0.00211   , 0.00099564,\n",
       "        0.00104737, 0.00219011, 0.00104403, 0.00121498, 0.0010767 ,\n",
       "        0.0024569 , 0.00136542, 0.00206995, 0.00100827, 0.00382066,\n",
       "        0.00192881, 0.00292754, 0.00427318, 0.00324821, 0.0032289 ,\n",
       "        0.00318551, 0.0027144 , 0.00211692, 0.00100851, 0.00105023,\n",
       "        0.00275183, 0.00137401, 0.00106859, 0.        , 0.00298977,\n",
       "        0.00310874, 0.00144863, 0.        , 0.        , 0.01591635,\n",
       "        0.00403571, 0.        , 0.        , 0.        , 0.        ,\n",
       "        0.        , 0.01605654, 0.        , 0.        , 0.01601362,\n",
       "        0.        , 0.        , 0.00560141, 0.        , 0.        ,\n",
       "        0.        , 0.        , 0.        , 0.01600337, 0.        ,\n",
       "        0.        , 0.        , 0.        , 0.        , 0.        ,\n",
       "        0.        , 0.        , 0.        , 0.        , 0.        ,\n",
       "        0.01598597, 0.        , 0.        , 0.        , 0.        ,\n",
       "        0.        , 0.        , 0.        , 0.00372195, 0.00200582,\n",
       "        0.        , 0.        , 0.        , 0.        , 0.        ,\n",
       "        0.01612043, 0.        , 0.01605797, 0.        , 0.        ,\n",
       "        0.        , 0.00400996, 0.        , 0.        , 0.00401425,\n",
       "        0.        , 0.00082231, 0.00200605, 0.        , 0.        ,\n",
       "        0.00314975, 0.01499486, 0.00768542, 0.        , 0.        ,\n",
       "        0.        , 0.        , 0.        , 0.01108646, 0.        ,\n",
       "        0.00258994, 0.00301147, 0.        , 0.00234532, 0.00105047,\n",
       "        0.00429296, 0.00203109, 0.00202394, 0.        , 0.00322104,\n",
       "        0.00209188, 0.00104833, 0.00240016, 0.        , 0.        ,\n",
       "        0.00106454, 0.00103903, 0.00106955, 0.0013988 , 0.        ,\n",
       "        0.00322556, 0.00322366, 0.0015111 , 0.00296402, 0.00101376,\n",
       "        0.00100613, 0.00101995, 0.00255418, 0.00355148, 0.0032289 ,\n",
       "        0.00209951, 0.00383973, 0.        , 0.00219989, 0.00106311,\n",
       "        0.00344229, 0.00228548, 0.00214148, 0.00203085, 0.00202346,\n",
       "        0.00100636, 0.00100446, 0.00200868, 0.00100422, 0.00100398,\n",
       "        0.00100517, 0.00131226, 0.0010047 , 0.00101328, 0.00131059,\n",
       "        0.00100398, 0.00100422, 0.00100446, 0.00100422, 0.00129271,\n",
       "        0.00100398, 0.00204444]),\n",
       " 'test_score': array([2.02001002e+00, 1.25092412e+00, 3.06805164e+00, 6.79901984e-02,\n",
       "        7.08255629e-01, 4.13566745e+01, 8.13755358e+01, 6.71494767e+01,\n",
       "        9.70498847e+01, 2.63430368e+01, 3.67428697e+00, 4.70741691e-01,\n",
       "        1.60507789e+00, 9.70498847e+01, 8.89557151e-01, 8.69418110e+00,\n",
       "        4.41228965e+01, 3.06562225e+01, 9.16549732e-01, 4.53185378e+01,\n",
       "        1.45705281e+00, 3.00983554e+00, 3.54617605e-03, 1.52964088e+01,\n",
       "        2.25022208e+01, 1.67905446e+01, 2.76735351e+00, 1.85354648e+01,\n",
       "        2.29957474e-01, 9.16549732e-01, 5.18379999e+00, 3.54617605e-03,\n",
       "        2.66745510e+01, 5.44791120e+01, 5.14078324e+01, 4.99405256e+01,\n",
       "        3.80360006e+01, 1.19884585e-02, 2.91033003e+00, 3.23104363e+00,\n",
       "        5.16691118e+00, 2.32487332e-01, 1.06678908e-02, 4.82615264e-01,\n",
       "        2.10211114e+01, 4.35585197e+01, 2.66745510e+01, 6.51231162e+01,\n",
       "        1.13690418e+01, 5.18379999e+00, 1.25085727e+00, 4.27873211e+00,\n",
       "        1.77161819e+00, 3.58044876e+01, 1.21519855e+01, 8.41044041e+00,\n",
       "        8.89557151e-01, 5.36657259e+00, 7.17595842e+01, 3.30230842e+01,\n",
       "        2.89239650e+01, 8.09034686e-01, 2.91033003e+00, 1.60507789e+00,\n",
       "        3.23104363e+00, 5.55648116e-01, 1.58374562e+01, 6.18633936e+00,\n",
       "        7.30069293e+00, 9.62066868e+00, 3.18079355e+01, 1.60507789e+00,\n",
       "        4.14699861e+01, 2.36253376e+01, 5.16691118e+00, 1.82205869e+01,\n",
       "        3.55599555e+01, 2.72424889e+01, 9.35761228e+00, 1.91401940e+01,\n",
       "        6.72450828e+00, 2.65440672e+00, 4.81922115e-01, 9.16549732e-01,\n",
       "        4.82615264e-01, 5.16691118e+00, 1.65673457e+01, 1.87496691e+01,\n",
       "        1.60507789e+00, 1.14041800e+01, 1.07534901e+01, 4.04602925e+00,\n",
       "        5.16691118e+00, 5.14127073e+01, 6.07551884e+01, 4.82615264e-01,\n",
       "        2.89000924e+01, 6.67900464e+01, 3.80360006e+01, 6.51231162e+01,\n",
       "        3.78643546e+00, 4.53185378e+01, 2.80008847e+01, 2.52995804e+00,\n",
       "        1.06678908e-02, 2.32487332e-01, 3.80360006e+01, 3.67700670e+01,\n",
       "        5.78250435e+01, 9.65326195e+00, 6.00999134e+01, 5.69004321e+01,\n",
       "        4.20960109e+00, 7.34161330e-02, 4.24141077e+00, 1.62504118e+02,\n",
       "        1.04124952e+01, 1.69263872e+01, 3.12256930e+01, 1.06661158e+01,\n",
       "        1.60507789e+00, 2.04714617e+00, 4.63627225e-01, 2.81308530e-01,\n",
       "        2.45422744e+01, 2.66745510e+01, 8.41826427e+01, 2.71568614e+00,\n",
       "        1.72393986e+00, 5.45824770e+00, 9.67273723e+00, 6.67900464e+01,\n",
       "        4.34294154e+01, 2.89000924e+01, 3.40894184e+00, 1.07534901e+01,\n",
       "        5.16691118e+00, 1.48674828e+01, 5.16691118e+00, 4.71985461e+00,\n",
       "        1.14045570e+01, 2.65723179e+00, 5.37714836e-01, 2.89872607e+00,\n",
       "        9.58490755e-03, 1.69263872e+01, 4.43538684e+00, 3.92603313e-01,\n",
       "        5.56174397e-01, 2.71568614e+00, 3.54826220e+01, 2.89000924e+01,\n",
       "        1.85793766e+02, 1.85793766e+02, 8.56678574e+00, 4.24141077e+00,\n",
       "        6.79901984e-02, 6.70768171e+00, 3.12200353e+01, 5.44791120e+01,\n",
       "        5.76492515e+01, 4.84338370e+01, 2.48707630e+00, 6.65463189e+00,\n",
       "        4.35279867e+01, 8.21133366e-01, 1.48042183e+01, 1.73234837e+01,\n",
       "        2.15428333e+01, 6.16014660e-01, 1.40301443e+01, 3.92603313e-01,\n",
       "        4.41228965e+01, 1.29490738e-02, 4.55556484e+01, 3.78643546e+00,\n",
       "        9.33148243e+00, 6.11852866e+00, 1.04014510e+01, 2.07408852e+00,\n",
       "        2.70256448e+00, 4.65694071e+00, 1.72487801e-01, 2.16539700e+00,\n",
       "        2.74918795e-02, 1.15058589e-01, 6.79901984e-02, 3.03694219e+01,\n",
       "        2.11072545e+00, 4.65249596e+00, 1.86499577e+00, 9.99513766e+00,\n",
       "        1.04928647e+01, 7.55152999e+00, 3.60116535e+01, 1.29490738e-02,\n",
       "        2.07408852e+00, 1.73234837e+01, 9.33213791e+01, 1.66755705e+01,\n",
       "        5.56635197e+01, 5.99987945e-01, 9.78228164e+00, 9.58490755e-03,\n",
       "        4.32695051e+00, 1.47882454e+01, 1.07534901e+01, 4.99405256e+01,\n",
       "        1.51995441e+01, 2.03208885e+01, 2.53881491e+01, 1.65673457e+01,\n",
       "        4.14699861e+01, 1.07534901e+01, 5.33042511e+00, 7.29756797e+00,\n",
       "        2.75846571e+01, 5.17186811e-01, 2.14795069e+01, 2.06180738e-01,\n",
       "        3.12200353e+01, 2.42350354e+00, 1.96456368e+01, 2.58692664e+01,\n",
       "        8.23394721e+00, 2.66745510e+01, 3.57935557e+01, 2.05425417e+01,\n",
       "        5.86547892e+00, 3.18124590e+01, 1.75981847e-01, 1.90777485e+00,\n",
       "        2.40313535e+00, 4.43538684e+00, 1.51190554e-01, 2.61303673e-01,\n",
       "        4.47244402e+01, 4.13364701e-01, 8.33410057e+00, 6.92684164e+00,\n",
       "        1.15721954e+00, 1.15721954e+00, 1.17243677e+02, 4.37670739e+01,\n",
       "        1.16629732e+00, 1.11553234e+02, 3.21334196e+01, 7.18196254e+00,\n",
       "        2.46435792e+00, 4.90518618e+00, 1.74123514e+01, 1.98261758e+01,\n",
       "        4.01877223e+01, 8.99439615e-01, 1.34018435e+01, 4.03012186e+01,\n",
       "        7.66863328e+00, 3.29183245e+01, 1.58667760e+01, 8.42803414e+00,\n",
       "        4.67977341e+00, 1.47657800e+01, 1.10336292e-02, 1.15058589e-01,\n",
       "        6.42346961e-01, 6.58606332e+00, 6.66627625e+00, 7.91798088e+00,\n",
       "        1.48304437e+01, 2.64318792e-02, 7.44090531e+00, 5.28305235e-01,\n",
       "        1.14684171e+01, 1.03414523e+01, 3.39377102e-02, 7.58123595e+00,\n",
       "        7.74842230e+00, 8.94190790e-02, 8.09384884e-02, 4.54365642e+01,\n",
       "        1.41140526e+01, 3.07579754e+01, 3.91284380e+00, 5.88043263e+00,\n",
       "        3.92436810e+00, 2.75808267e+00, 1.83702289e-01, 2.07387025e+00,\n",
       "        4.12916020e+00, 1.01722577e+00, 5.08353300e+00, 1.01467782e+01,\n",
       "        1.97789373e+01, 7.09285156e+01, 8.47276098e-03, 5.71702729e+00,\n",
       "        7.86198816e+00, 2.35859722e+00, 3.36788510e+00, 2.84924847e+01,\n",
       "        3.18008270e+01, 4.55923166e+00, 6.88003729e+01, 7.17149316e+00,\n",
       "        4.94993583e+01, 2.53016852e+01, 6.07286850e+01, 1.85344168e+02,\n",
       "        5.89921650e+01, 1.04207991e+01, 5.72092847e+01, 5.18379999e+00,\n",
       "        1.26415094e-01, 2.05638892e+00, 4.42118654e+01, 4.49064563e+01,\n",
       "        1.66631623e+01, 1.03395519e+01, 1.34992151e+02, 1.69676219e+01,\n",
       "        2.89448955e+02, 2.06974399e+01, 1.25051574e+02, 1.44905192e+02,\n",
       "        1.23884653e+02, 5.00546480e+01, 4.13364701e-01, 2.34577604e+02,\n",
       "        1.99088405e+01, 1.23537151e-01, 1.86386212e+02, 2.04808540e-01,\n",
       "        8.06690157e+01, 1.47899420e+01, 2.75430770e-01, 5.95305638e-03,\n",
       "        1.49726751e-01, 8.63932788e-01, 1.11156438e+01, 7.00853046e+01,\n",
       "        8.49303469e+01, 2.17401579e+01, 8.72867547e+00, 5.42082969e+01,\n",
       "        5.76616427e+01, 2.42205203e+01, 2.24153948e+01, 2.25523558e+01,\n",
       "        5.07271492e-02, 2.26998788e+01, 3.16437445e+01, 1.86623193e+01,\n",
       "        7.69355372e+01, 1.12801915e+01, 6.31334897e-01, 7.68002445e+00,\n",
       "        1.43235862e+01, 1.03365290e+01, 3.00647280e-02, 1.05372851e+01,\n",
       "        3.43774311e+01, 8.00620412e+01, 3.84314632e+00, 9.16549732e-01,\n",
       "        6.36574958e+01, 2.02081766e+01, 5.43229349e+00, 1.62275765e+00,\n",
       "        2.01113213e+00, 6.04809802e+01, 6.13959910e+01, 3.26284998e+00,\n",
       "        6.48476825e+01, 5.10675623e+01, 9.96926676e+01, 6.29583618e+01,\n",
       "        2.63878500e+01, 7.53932748e+01, 7.03805538e+00, 7.53932748e+01,\n",
       "        5.92141501e+00, 1.32661105e+02, 3.45169047e-01, 6.65300161e-02,\n",
       "        5.23682368e+01, 8.74921443e+01, 1.62275765e+00, 4.10622168e-01,\n",
       "        1.52827762e+02, 2.85218299e+01, 2.87124380e-01, 1.61698064e+01])}"
      ]
     },
     "execution_count": 18,
     "metadata": {},
     "output_type": "execute_result"
    }
   ],
   "source": [
    "# The cross_validate() function produces a dictionary with several components\n",
    "cv_results"
   ]
  },
  {
   "cell_type": "code",
   "execution_count": 27,
   "id": "9b906275-cc52-41f3-b84c-4531f82e58b6",
   "metadata": {},
   "outputs": [
    {
     "data": {
      "text/plain": [
       "array([24.23151352, 19.24821312, 19.33498406, 19.42443031, 19.03320903])"
      ]
     },
     "execution_count": 27,
     "metadata": {},
     "output_type": "execute_result"
    }
   ],
   "source": [
    "cv_error = np.zeros(5)\n",
    "H = np.array(Auto['horsepower'])\n",
    "M = sklearn_sm(sm.OLS)\n",
    "\n",
    "for i, degree in enumerate(range(1,6)):\n",
    "    X = np.power.outer(H, np.arange(degree+1)) # Starting from linearity, adding extra term of higher degree per iteration.\n",
    "    M_CV = cross_validate(M,\n",
    "                          X,\n",
    "                          Y,\n",
    "                          cv=Auto.shape[0])\n",
    "    cv_error[i] = np.mean(M_CV['test_score'])\n",
    "cv_error"
   ]
  },
  {
   "cell_type": "code",
   "execution_count": 28,
   "id": "e797d252-ece1-434b-af68-ff22e94864df",
   "metadata": {},
   "outputs": [],
   "source": [
    "# outer() method to np.power() function. It takes 2 arrays as arguments and forms a larger array where the operation is applied to each pair of elementsof the two arrays"
   ]
  },
  {
   "cell_type": "code",
   "execution_count": 29,
   "id": "75fd6b7e-c8af-4d7a-81b9-8b13b59f69bd",
   "metadata": {},
   "outputs": [
    {
     "data": {
      "text/plain": [
       "array([[ 5,  7],\n",
       "       [ 7,  9],\n",
       "       [11, 13]])"
      ]
     },
     "execution_count": 29,
     "metadata": {},
     "output_type": "execute_result"
    }
   ],
   "source": [
    "A = np.array([3, 5, 9])\n",
    "B = np.array([2, 4])\n",
    "np.add.outer(A, B)"
   ]
  },
  {
   "cell_type": "code",
   "execution_count": 31,
   "id": "7b53a68d-2a02-4343-955b-d1b32ecd0a0e",
   "metadata": {},
   "outputs": [
    {
     "data": {
      "text/plain": [
       "array([24.20766449, 19.18533142, 19.27626666, 19.47848402, 19.13722633])"
      ]
     },
     "execution_count": 31,
     "metadata": {},
     "output_type": "execute_result"
    }
   ],
   "source": [
    "cv_error = np.zeros(5)\n",
    "cv = KFold(n_splits=10,\n",
    "           shuffle=True,\n",
    "           random_state=0) # use same splits for each degree\n",
    "\n",
    "for i, d in enumerate(range(1,6)):\n",
    "    X = np.power.outer(H, np.arange(d+1))\n",
    "    M_CV = cross_validate(M,\n",
    "                          X,\n",
    "                          Y,\n",
    "                          cv=cv)\n",
    "    cv_error[i] = np.mean(M_CV['test_score'])\n",
    "cv_error"
   ]
  },
  {
   "cell_type": "code",
   "execution_count": 32,
   "id": "52a06c56-e7dc-4d14-a8ab-0e167fe5297b",
   "metadata": {},
   "outputs": [
    {
     "data": {
      "text/plain": [
       "array([23.61661707])"
      ]
     },
     "execution_count": 32,
     "metadata": {},
     "output_type": "execute_result"
    }
   ],
   "source": [
    "validation = ShuffleSplit(n_splits=1,\n",
    "                          test_size=196,\n",
    "                          random_state=0) # Function to implement VS approach into cross_validate()\n",
    "results = cross_validate(hp_model,\n",
    "                         Auto.drop(['mpg'], axis=1),\n",
    "                         Auto['mpg'],\n",
    "                         cv=validation);\n",
    "results['test_score']"
   ]
  },
  {
   "cell_type": "code",
   "execution_count": 36,
   "id": "60d0b3d7-3522-40b5-932e-0f541f1122f4",
   "metadata": {},
   "outputs": [
    {
     "data": {
      "text/plain": [
       "(23.802232661034164, 1.4218450941091847)"
      ]
     },
     "execution_count": 36,
     "metadata": {},
     "output_type": "execute_result"
    }
   ],
   "source": [
    "# Estimate variability in the test error\n",
    "\n",
    "validation = ShuffleSplit(n_splits=10, # 10 splits -> 10 validation-test sets with 196 obs each -> 10 splits like k-fold but with randomness.\n",
    "                          test_size=196,\n",
    "                          random_state=0)\n",
    "# ShuffleSplit randomly shuffles the data before splitting, allowing for overlapping samples across folds (differently from KFold() where data is shuffled but then splitting is structured).\n",
    "\n",
    "results = cross_validate(hp_model,\n",
    "                         Auto.drop(['mpg'], axis=1),\n",
    "                         Auto['mpg'],\n",
    "                         cv=validation)\n",
    "\n",
    "results['test_score'].mean(), results['test_score'].std()\n",
    "# mean across 10 folds."
   ]
  },
  {
   "cell_type": "markdown",
   "id": "474d3fef-90a1-4dd6-90fb-73473168927e",
   "metadata": {},
   "source": [
    "##### Not a valid variability estimate because ShuffleSplit allows for overlapping across folds or not coverage of some obs, generating correlation between them\n",
    "##### std() here captures the variation due to randomness in fold selection (like running multiple random experiments) -> Monte Carlo variation incurred by picking diferent random folds"
   ]
  },
  {
   "cell_type": "markdown",
   "id": "ab3495f9-a496-475d-9af2-b4a904d0598a",
   "metadata": {},
   "source": [
    "# The Bootstrap"
   ]
  },
  {
   "cell_type": "code",
   "execution_count": 38,
   "id": "4afba5f8-1189-4667-9fa4-d58d146e68c6",
   "metadata": {},
   "outputs": [],
   "source": [
    "# Example of investment in X and Y (described in The notebook) - Portfolio data frame"
   ]
  },
  {
   "cell_type": "code",
   "execution_count": 45,
   "id": "c9e44c37-dea8-4797-948d-0d4a032a0415",
   "metadata": {},
   "outputs": [],
   "source": [
    "Portfolio = pd.read_csv('Portfolio.csv')\n",
    "\n",
    "# This function returns an estimate of alpha applying the minimum variance formula to the observations indexed by the argument idx\n",
    "def alpha_func(D, idx):\n",
    "    cov_ = np.cov(D[['X','Y']].loc[idx], rowvar=False)\n",
    "    return ((cov_[1,1] - cov_[0,1]) /\n",
    "            (cov_[0,0]+cov_[1,1]-2*cov_[0,1]))"
   ]
  },
  {
   "cell_type": "code",
   "execution_count": 46,
   "id": "e9dd27cc-e6f5-4e9e-9c5a-9145dc7ddfa9",
   "metadata": {},
   "outputs": [
    {
     "data": {
      "text/plain": [
       "0.57583207459283"
      ]
     },
     "execution_count": 46,
     "metadata": {},
     "output_type": "execute_result"
    }
   ],
   "source": [
    "alpha_func(Portfolio, range(100)) # estimating alpha using all 100 obs"
   ]
  },
  {
   "cell_type": "code",
   "execution_count": 47,
   "id": "2aa073a9-df66-43c3-96e7-6db4751047e4",
   "metadata": {},
   "outputs": [
    {
     "data": {
      "text/plain": [
       "0.6074452469619003"
      ]
     },
     "execution_count": 47,
     "metadata": {},
     "output_type": "execute_result"
    }
   ],
   "source": [
    "rng = np.random.default_rng(0)\n",
    "alpha_func(Portfolio,\n",
    "           rng.choice(100,\n",
    "                      100,\n",
    "                      replace=True)) # with replacement."
   ]
  },
  {
   "cell_type": "code",
   "execution_count": 49,
   "id": "5444c311-80b2-4ed5-99bd-a6a564c85e4e",
   "metadata": {},
   "outputs": [],
   "source": [
    "# Computing the bootstrap standard error for arbitrary functions that take only a data frame as an argument\n",
    "\n",
    "def boot_SE(func,\n",
    "            D,\n",
    "            n=None,\n",
    "            B=1000,\n",
    "            seed=0):\n",
    "    \n",
    "    rng = np.random.default_rng(seed)\n",
    "    first_, second_ = 0, 0\n",
    "    n = n or D.shape[0]\n",
    "    \n",
    "    for _ in range(B): # Value of the counter '_' is not important. It just makes sure the loop is executed B times.\n",
    "        idx = rng.choice(D.index,\n",
    "                         n,\n",
    "                         replace=True)\n",
    "        \n",
    "        value = func(D, idx)\n",
    "        first_ += value\n",
    "        second_ += value**2\n",
    "    return np.sqrt(second_ / B - (first_ / B)**2)"
   ]
  },
  {
   "cell_type": "code",
   "execution_count": 50,
   "id": "c12a883c-456a-4390-bd63-613e3e6ca947",
   "metadata": {},
   "outputs": [
    {
     "data": {
      "text/plain": [
       "0.09118176521277668"
      ]
     },
     "execution_count": 50,
     "metadata": {},
     "output_type": "execute_result"
    }
   ],
   "source": [
    "alpha_SE = boot_SE(alpha_func,\n",
    "                   Portfolio,\n",
    "                   B=1000,\n",
    "                   seed=0)\n",
    "alpha_SE"
   ]
  },
  {
   "cell_type": "code",
   "execution_count": null,
   "id": "d7d4e055-350b-437a-922c-fab5cf17e015",
   "metadata": {},
   "outputs": [],
   "source": []
  }
 ],
 "metadata": {
  "kernelspec": {
   "display_name": "Python 3 (ipykernel)",
   "language": "python",
   "name": "python3"
  },
  "language_info": {
   "codemirror_mode": {
    "name": "ipython",
    "version": 3
   },
   "file_extension": ".py",
   "mimetype": "text/x-python",
   "name": "python",
   "nbconvert_exporter": "python",
   "pygments_lexer": "ipython3",
   "version": "3.11.9"
  }
 },
 "nbformat": 4,
 "nbformat_minor": 5
}
