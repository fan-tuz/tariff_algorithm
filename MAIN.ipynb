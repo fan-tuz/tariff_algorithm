{
 "cells": [
  {
   "cell_type": "markdown",
   "id": "c32893d7-21d9-4bd3-8623-96a389024346",
   "metadata": {},
   "source": [
    "# IMPORTING LIBRARIES, FUNCTIONS AND CONVERSION TABLES"
   ]
  },
  {
   "cell_type": "code",
   "execution_count": null,
   "id": "915422c5-37c2-4e9a-8f5b-87265c1b1d40",
   "metadata": {},
   "outputs": [],
   "source": [
    "# Data parsing and engineering.\n",
    "\n",
    "import pandas as pd\n",
    "import re\n",
    "import numpy as np\n",
    "import tariff_functions\n",
    "import conversion_tables\n",
    "\n",
    "# Linear regression and visualizations\n",
    "import statsmodels.api as sm\n",
    "import patsy\n",
    "from patsy import build_design_matrices\n",
    "import matplotlib.pyplot as plt\n",
    "from matplotlib.pyplot import subplots\n",
    "import seaborn as sns"
   ]
  },
  {
   "cell_type": "code",
   "execution_count": null,
   "id": "ee5e1b94-ca02-41d4-890f-edd68bc4e57d",
   "metadata": {},
   "outputs": [],
   "source": [
    "from statsmodels.stats.outliers_influence \\\n",
    "import variance_inflation_factor as VIF\n",
    "from statsmodels.stats.anova import anova_lm\n",
    "from ISLP import load_data\n",
    "from ISLP.models import (ModelSpec as MS,\n",
    "summarize,\n",
    "poly)"
   ]
  },
  {
   "cell_type": "markdown",
   "id": "9265162c-b196-4f98-9f20-c19936573db2",
   "metadata": {},
   "source": [
    "# IMPORTING DATASETS - 2023 & 2024"
   ]
  },
  {
   "cell_type": "code",
   "execution_count": null,
   "id": "9c0f5048-3b11-4e3f-94b7-4d1a2dc34660",
   "metadata": {
    "jupyter": {
     "source_hidden": true
    },
    "scrolled": true
   },
   "outputs": [],
   "source": [
    "# HTS8 -> NAICS4\n",
    "ct = pd.read_excel('impconcord25.xlsx', usecols=['commodity', 'naics'], dtype={'commodity': str})\n",
    "ct.rename(columns={'commodity':'hts8'}, inplace=True)\n",
    "# Slicing codes to get hts8 and naics4.\n",
    "# Creating a hash table whose keys are hts-8 and values are naics4 codes.\n",
    "conversion_dict = {}\n",
    "for _, row in ct.iterrows():\n",
    "    row['hts8']=row['hts8'][:8]\n",
    "    row['naics']=row['naics'][:4]\n",
    "    conversion_dict.setdefault(row['hts8'], row['naics'])"
   ]
  },
  {
   "cell_type": "code",
   "execution_count": null,
   "id": "a01f49a8-4f5f-48e4-98a8-60d9333fd14e",
   "metadata": {
    "jupyter": {
     "source_hidden": true
    }
   },
   "outputs": [],
   "source": [
    "# Importing the tariff database.\n",
    "\n",
    "tariff_db = pd.read_excel('tariff_database_202405.xlsx',\n",
    "                          usecols=[\n",
    "                              'hts8', 'brief_description', 'quantity_1_code', 'quantity_2_code', 'wto_binding_code',\n",
    "                              'mfn_text_rate', 'col1_special_text', 'col2_text_rate', 'additional_duty'\n",
    "                          ], dtype={'hts8': str})\n",
    "\n",
    "# CIF values (USD) and calculated duties.\n",
    "\n",
    "country_im = pd.read_excel('cif_calc_duties.xlsx', skiprows=2, dtype={'HTS Number': str})\n",
    "country_im.rename(columns={'2024':'Amount'}, inplace=True)\n",
    "\n",
    "country_im['Amount'] = pd.to_numeric(country_im['Amount'], errors='coerce')  # \"0\" => 0\n",
    "country_im = country_im[country_im['Amount'] != 0] # Ignoring rows whose amounts are equal to zero.\n",
    "\n",
    "filt_cif = country_im['Data Type'] == 'CIF Import Value'\n",
    "filt_calc_duties = country_im['Data Type'] == 'Calculated Duties'\n",
    "\n",
    "cif = country_im.loc[filt_cif]\n",
    "cd = country_im.loc[filt_calc_duties]\n",
    "\n",
    "# Quantities by units, necessary to handle specific tariffs.\n",
    "amount_units = pd.read_excel('amount_units.xlsx', dtype={'HTS Number': str}, skiprows=2)\n",
    "amount_units.rename(columns={'2024':'Amount'}, inplace=True)"
   ]
  },
  {
   "cell_type": "code",
   "execution_count": null,
   "id": "a99fb9e0-2d3c-43fa-ae37-e6ca623ba108",
   "metadata": {
    "jupyter": {
     "source_hidden": true
    }
   },
   "outputs": [],
   "source": [
    "#**********************************************************************************************************************************#\n",
    "# SAME PROCEDING FOR THE TRAINING YEAR (2023)\n",
    "#**********************************************************************************************************************************#\n",
    "tariff_db_2023 = pd.read_excel('tariff database_202307.xlsx',\n",
    "                               usecols=['hts8', 'brief_description', 'quantity_1_code', 'quantity_2_code',\n",
    "                                        'wto_binding_code', 'mfn_text_rate', 'col1_special_text', 'col2_text_rate', 'additional_duty'\n",
    "                                       ], dtype={'hts8': str})\n",
    "country_im_2023 = pd.read_excel('cif_calc_duties_2023.xlsx', skiprows=2, dtype={'HTS Number': str})\n",
    "country_im_2023.rename(columns={'2023':'Amount'}, inplace=True)\n",
    "country_im_2023['Amount'] = pd.to_numeric(country_im_2023['Amount'], errors='coerce')  # \"0\" diventa 0\n",
    "country_im_2023 = country_im_2023[country_im_2023['Amount'] != 0]\n",
    "filt_cif = country_im_2023['Data Type'] == 'CIF Import Value'\n",
    "filt_calc_duties = country_im_2023['Data Type'] == 'Calculated Duties'\n",
    "cif_2023 = country_im_2023.loc[filt_cif]\n",
    "cd_2023 = country_im_2023.loc[filt_calc_duties]\n",
    "amount_units_2023 = pd.read_excel('amount_units_2023.xlsx', dtype={'HTS Number': str}, skiprows=2)\n",
    "# The last kwarg is important because the first two rows are descriptive. Actual column names are reported in line 3.\n",
    "amount_units_2023.rename(columns={'2023':'Amount'}, inplace=True)"
   ]
  },
  {
   "cell_type": "code",
   "execution_count": null,
   "id": "382af560-595a-4383-bd25-bb0941e72ee0",
   "metadata": {
    "jupyter": {
     "source_hidden": true
    }
   },
   "outputs": [],
   "source": [
    "# Function to visualize ALL values in a column. Useful when parsing.\n",
    "def vc(df, col_name):\n",
    "    pd.set_option('display.max_rows', None)\n",
    "    return df[col_name].value_counts(dropna=False)"
   ]
  },
  {
   "cell_type": "markdown",
   "id": "2ddd8fb6-728f-451c-ae3d-15ea9f435383",
   "metadata": {},
   "source": [
    "#### No change in conversion table to allow industry comparison across years - same hts codes within each naics"
   ]
  },
  {
   "cell_type": "markdown",
   "id": "41911f90-5485-40bc-82cd-b7f3868e1449",
   "metadata": {},
   "source": [
    "# Deterministic Model"
   ]
  },
  {
   "cell_type": "code",
   "execution_count": null,
   "id": "4956a47b-e02f-4406-a55b-287fc122e403",
   "metadata": {},
   "outputs": [],
   "source": [
    "class DeterministicModel():\n",
    "    # Self -> ibc nested dictionary.\n",
    "    def __init__ (self, tariff_database, cif, amount_by_unit, trade_agreements, unit_conversion_map, calculated_duties, tariff_unit_to_description):\n",
    "        self.tariff_database = tariff_database\n",
    "        self.cif = cif\n",
    "        self.amount_by_unit = amount_by_unit\n",
    "        self.calculated_duties = calculated_duties\n",
    "        self.trade_agreements = trade_agreements\n",
    "        self.tariff_unit_to_description = tariff_unit_to_description\n",
    "        self.unit_conversion_map = unit_conversion_map\n",
    "        # Stateful attributes (avoid globals)\n",
    "        self.ibc: Dict[str, Dict] = {}  # {hts: {origin_country: {amount_usd, amount_unit, tariff}}}\n",
    "        self.exception_cache: set = set()\n",
    "        self.ibc_exceptions: Dict = {}\n",
    "        self.untracked_exceptions: Dict = {}\n",
    "        self.exc_list: list = [] # Out of 1103 exceptions in exc_list, there are 190 unique values -> shouldn't the exceptions_cache block this?\n",
    "    \n",
    "    def build_ibc(self) -> None:\n",
    "        \"\"\"Populate self.ibc with CIF and unit data.\"\"\"\n",
    "        self.structure_cif_data()\n",
    "        self.structure_unit_data()\n",
    "\n",
    "    def structure_cif_data(self) -> None:\n",
    "        for _, row in self.cif.iterrows():\n",
    "            hts = row['HTS Number']\n",
    "            country = row['Country']\n",
    "            amount = row['Amount']\n",
    "            if hts not in self.ibc:\n",
    "                self.ibc[hts] = {}\n",
    "            \n",
    "            self.ibc[hts][country] = {\n",
    "                'amount_usd': amount,\n",
    "                'amount_unit': {},\n",
    "                'tariff': {}\n",
    "            }\n",
    "    \n",
    "    def structure_unit_data(self) -> None:\n",
    "\n",
    "        # Technicalities about the loop below: iterate through GroupBy object made of (HTS, Country) groups.\n",
    "        # Integer indexing is dangerous.\n",
    "        # Only unique combinations of hts and country are returned, hence there is no loss in unit of measure differentiation.\n",
    "        # The quantities sharing hts, country and unit are summed.\n",
    "    \n",
    "        for (hts, country), group in self.amount_by_unit.groupby(['HTS Number', 'Country']):\n",
    "            unit_data = {'unit1': None, 'quantity1': 0, 'unit2': None, 'quantity2': 0} # Setting up the dictionary.\n",
    "            for _, row in group.iterrows():\n",
    "                if row['Data Type'] == 'First Unit of Quantity':\n",
    "                    unit_data['unit1'] = row['Quantity Description']\n",
    "                    unit_data['quantity1'] += row['Amount'] or 0\n",
    "                elif row['Data Type'] == 'Second Unit of Quantity':\n",
    "                    unit_data['unit2'] = row['Quantity Description']\n",
    "                    unit_data['quantity2'] += row['Amount'] or 0\n",
    "        \n",
    "            # Populate the ibc dictionary.\n",
    "            self.ibc.setdefault(hts, {}).setdefault(country, {}).update({\n",
    "                'amount_unit' : unit_data\n",
    "            })\n",
    "            \n",
    "\n",
    "    # resolve_duties() injects the right tariff to each country at given hts8 code, scanning for trade agreements and preferential programs.\n",
    "    # It calls st_duty() to serve its purpose.\n",
    "    # The function follows the ranking: FTA -> preferential program -> MFN tariff -> non-MFN tariff\n",
    "    def resolve_duties(self, hts, entry):\n",
    "        if hts not in self.ibc:\n",
    "            return\n",
    "        # Making sure 'entry' is a string and standardize it.\n",
    "        entry = sanitize_entry(entry)\n",
    "        entry = re.sub(r'\\s+', ' ', entry).strip().lower()\n",
    "    \n",
    "        # Free\n",
    "        if entry in ('free', 'no change'): # Entry is already stripped and lowercase.\n",
    "            for country in self.ibc[hts]:\n",
    "                self.ibc[hts][country]['tariff'] = {'adval': 0.0, 'specific': [], 'unit': None}\n",
    "    \n",
    "        # Free trade groups (Free (A,AU,BH,...)) -> what if there is \"+10% (KR)\" or \"$1.02/kg (KR)\" after the closing bracket?\n",
    "        free_trade_groups = re.findall(r'free\\s*\\(([^)]+)\\)', entry, flags=re.IGNORECASE)\n",
    "        for group in free_trade_groups: # In most cases: 1.\n",
    "            for code in map(str.strip, group.upper().split(',')):\n",
    "                if code in self.trade_agreements:\n",
    "                    for country in self.ibc[hts]: # If the exporting country belongs to a preferential program for given HTS, no duties are applied.\n",
    "                        if country in self.trade_agreements[code]:\n",
    "                            self.ibc[hts][country]['tariff'] = {'adval': 0.0, 'specific': [], 'unit': None}\n",
    "    \n",
    "        # Country-specific compound duties (e.g. \"3.5¢/kg + 5% (KR)\")\n",
    "        pattern = r\"\"\"\n",
    "        (                          # Group 1: tariff component\n",
    "            \\b\n",
    "            (?!\\d{4}\\.\\d{2}\\.\\d{2}\\b)  # Explicitly excluding 9822.54.74 structures.\n",
    "            [\\d.]+\n",
    "            (?:¢\\/(?:kg|liter)|\\$[\\d.]+\\/kg|%)?\n",
    "            (?:\\s*\\+\\s*[\\d.]+%)?\n",
    "            (?:\\s+of[^)]*)?\n",
    "        )\n",
    "        \\s*\\(([^)]+)\\)             # Group 2: preferential group\n",
    "        \"\"\"\n",
    "        matches = re.findall(pattern, entry, flags=re.IGNORECASE | re.VERBOSE)\n",
    "        for duty_str, groups in matches:\n",
    "            parsed = standardize_duty(duty_str, self.tariff_unit_to_description)\n",
    "            for group in map(str.strip, groups.upper().split(',')):\n",
    "                if group in self.trade_agreements:\n",
    "                    for country in self.ibc[hts]:\n",
    "                        if country in self.trade_agreements[group]:\n",
    "                            self.ibc[hts][country]['tariff'] = parsed\n",
    "    \n",
    "        # Fallbacks: MFN and col2\n",
    "        row = self.tariff_database[self.tariff_database['hts8'] == hts]\n",
    "        if not row.empty:\n",
    "            mfn_rate_text = row.iloc[0]['mfn_text_rate']\n",
    "            col2_rate_text = row.iloc[0]['col2_text_rate']\n",
    "            try:\n",
    "                mfn_duty = standardize_duty(mfn_rate_text, self.tariff_unit_to_description)\n",
    "                col2_duty = standardize_duty(col2_rate_text, self.tariff_unit_to_description)\n",
    "            except ValueError:\n",
    "                mfn_duty = col2_duty = {'adval': None, 'specific': [], 'unit': None}\n",
    "    \n",
    "            for country in self.ibc[hts]:\n",
    "                try:\n",
    "                    current = self.ibc[hts][country].get('tariff', {})\n",
    "                    \n",
    "                    if isinstance(current, dict) and current.get('adval') is not None and current.get('specific') is not None:\n",
    "                        continue\n",
    "                    \"\"\" If 'current' is a dict and contains both non-None 'adval' and 'specific' keys, skip: fully resolved duty. \"\"\"\n",
    "        \n",
    "                    if country in self.trade_agreements.get('MFN', []) and row.iloc[0]['wto_binding_code'] == 'B': # \"B\" means bound.\n",
    "                        self.ibc[hts][country]['tariff'] = mfn_duty\n",
    "                    else:\n",
    "                        self.ibc[hts][country]['tariff'] = col2_duty\n",
    "                except AttributeError as e:\n",
    "                    # Untracked exceptions\n",
    "                    pass\n",
    "                    \n",
    "    #^^^^^^^^^^^^^^^^^^^^^^^^^^^^^^^^^^^^^^^^^^^^^^^^^^^^^^^^^^^^^^^^^^^^^^^^^^^^^^^^^^^^^^^^^^^^^^^^^^^^^^^^^^^^^^^^^^^^^^^^^^^^^^^#\n",
    "    # ENGINE which calls all of the previous functions to fill the tariff entry in ibc.\n",
    "    #^^^^^^^^^^^^^^^^^^^^^^^^^^^^^^^^^^^^^^^^^^^^^^^^^^^^^^^^^^^^^^^^^^^^^^^^^^^^^^^^^^^^^^^^^^^^^^^^^^^^^^^^^^^^^^^^^^^^^^^^^^^^^^^#\n",
    "    \n",
    "    def apply_tariffs(self):\n",
    "        for index, row in self.tariff_database.iterrows():\n",
    "            hts_code = row['hts8']\n",
    "            entry_text = row['col1_special_text']\n",
    "            self.resolve_duties(hts_code, entry_text)\n",
    "\n",
    "    # Create a dataframe with the results.\n",
    "    def ibc_to_dataframe(self):\n",
    "        rows = []\n",
    "        # O(1) vs O(n) with .loc[] which implied 2+ million loops.\n",
    "        duties_lookup = {\n",
    "            (row['HTS Number'], row['Country']): row['Amount']\n",
    "            for _, row in self.calculated_duties.iterrows()\n",
    "        }\n",
    "        \n",
    "        for hts, countries in self.ibc.items():\n",
    "            if not isinstance(hts, str) or hts.strip() == '':\n",
    "                continue\n",
    "            for country, data in countries.items():\n",
    "                \n",
    "                amount_usd = data.get('amount_usd') or 0.0\n",
    "                tariff = data.get('tariff', {})\n",
    "                amount_unit = data.get('amount_unit', {})\n",
    "                \n",
    "                u1 = amount_unit.get('unit1')\n",
    "                u2 = amount_unit.get('unit2')\n",
    "                qt1 = amount_unit.get('quantity1') or 0.0\n",
    "                qt2 = amount_unit.get('quantity2') or 0.0\n",
    "                    \n",
    "    \n",
    "                adval = tariff.get('adval') or 0.0\n",
    "                adval_duty = amount_usd * adval\n",
    "    \n",
    "                spec_duty = 0.0\n",
    "                specifics = tariff.get('specific', [])\n",
    "                has_specific = 1 if specifics else 0\n",
    "                for comp in specifics:\n",
    "                    s_rate = comp.get('rate')\n",
    "                    unit = comp.get('unit')\n",
    "                    if s_rate is None or unit is None:\n",
    "                        continue\n",
    "                    applicable_quantity = get_converted_quantity(unit, u1, qt1, u2, qt2, self.unit_conversion_map)\n",
    "                    if applicable_quantity is not None:\n",
    "                            spec_duty += s_rate * applicable_quantity\n",
    "                is_exception = True if hts.startswith(('98', '99')) else False\n",
    "                duty_model = adval_duty + spec_duty\n",
    "                real_duty = duties_lookup.get((hts, country), 0.0)\n",
    "                rows.append({\n",
    "                    'hts': hts,\n",
    "                    'country': country,\n",
    "                    'amount_usd': amount_usd,\n",
    "                    'duty_model': duty_model,\n",
    "                    'unit1': u1,\n",
    "                    'quantity1': qt1,\n",
    "                    'unit2': u2,\n",
    "                    'quantity2': qt2,\n",
    "                    'adval': adval,\n",
    "                    'has_specific': has_specific, # dummy\n",
    "                    'is_98': is_exception,\n",
    "                    'real_duty': real_duty\n",
    "                })\n",
    "                    \n",
    "    \n",
    "        return pd.DataFrame(rows)"
   ]
  },
  {
   "cell_type": "code",
   "execution_count": null,
   "id": "2bbf9158-c30a-41b3-bc3f-63c45337fbbd",
   "metadata": {},
   "outputs": [],
   "source": [
    "def preliminary_results(year, tariff_db, cif, amount_units, cd):\n",
    "    DM = DeterministicModel(\n",
    "        tariff_database=tariff_db,\n",
    "        cif=cif,\n",
    "        amount_by_unit=amount_units,\n",
    "        trade_agreements=tas,\n",
    "        unit_conversion_map=unit_conversion_map,\n",
    "        calculated_duties=cd,\n",
    "        tariff_unit_to_description=tariff_unit_to_description)\n",
    "    DM.build_ibc()\n",
    "    DM.apply_tariffs()\n",
    "    DM_results = DM.ibc_to_dataframe()\n",
    "\n",
    "    DM_results['naics'] = DM_results['hts'].map(conversion_dict)\n",
    "    DM_results.naics.astype(str)\n",
    "    DM_results.hts.astype(str)\n",
    "    \n",
    "    print(f'Shape of the newly created dataframe: {DM_results.shape}')\n",
    "\n",
    "    DM_prediction = DM_results['duty_model'].sum()\n",
    "    real_amount = DM_results['real_duty'].sum()\n",
    "    coverage = (DM_prediction / real_amount)*100\n",
    "    print(f'The deterministic model yields a {coverage} coverage for total duties paid in {year}.')\n",
    "    \n",
    "    return DM_results"
   ]
  },
  {
   "cell_type": "markdown",
   "id": "f2bdd324-a19b-4d0d-8a19-3bf6c5946a95",
   "metadata": {},
   "source": [
    "# MACHINE LEARNING - OLS Linear Regression with ibc and DM as baseline"
   ]
  },
  {
   "cell_type": "markdown",
   "id": "286d9930-045d-4cd0-bdd4-07177fd27310",
   "metadata": {},
   "source": [
    "### OLS model quantifies correction factors for countries / industries / hts which are not observable from public data. It is trained on data from 2023 to predict total duties of 2024"
   ]
  },
  {
   "cell_type": "markdown",
   "id": "78a11828-8af9-47cc-8646-2e15978fb196",
   "metadata": {},
   "source": [
    "#### Each year will have its own deterministic dataset"
   ]
  },
  {
   "cell_type": "code",
   "execution_count": null,
   "id": "24b30c31-e4a0-42d6-999c-456ad0e3cff6",
   "metadata": {},
   "outputs": [],
   "source": [
    "def regression_prep(training_year, db_train, cif_train, amount_units_train, cd_train,\n",
    "                        testing_year, db_test, cif_test, amount_units_test, cd_test):\n",
    "    \n",
    "    res_train = preliminary_results(training_year, db_train, cif_train, amount_units_train, cd_train)\n",
    "    res_test = preliminary_results(testing_year, db_test, cif_test, amount_units_test, cd_test)\n",
    "    \n",
    "    # Drop empty unsable rows and fill missing values.\n",
    "    res_train = res_train.dropna(subset=['real_duty', 'duty_model', 'country', 'naics'])\n",
    "    res_train['has_specific'] = res_train['has_specific'].fillna(0).astype(int)\n",
    "    res_train['adval'] = res_train['adval'].fillna(0)\n",
    "    \n",
    "    res_test = res_test.dropna(subset=['real_duty', 'duty_model', 'country', 'naics'])\n",
    "    res_test['has_specific'] = res_test['has_specific'].fillna(0).astype(int)\n",
    "    res_test['adval'] = res_test['adval'].fillna(0)\n",
    "    \n",
    "    # Necessary steps to ensure I can build a test design matrix smoothly.\n",
    "    seen_countries = set(res_train['country'].unique())\n",
    "    seen_naics = set(res_train['naics'].unique())\n",
    "    res_test_clean = res_test[res_test['country'].isin(seen_countries) &\n",
    "        res_test['naics'].isin(seen_naics)].copy()\n",
    "    \n",
    "    return res_test_clean, res_train"
   ]
  },
  {
   "cell_type": "code",
   "execution_count": null,
   "id": "921ae08a-0976-4557-a8a6-a8632e54db58",
   "metadata": {
    "scrolled": true
   },
   "outputs": [],
   "source": [
    "test, train = regression_prep(2023, tariff_db_2023, cif_2023, amount_units_2023, cd_2023,\n",
    "                                        2024, tariff_db, cif, amount_units, cd)"
   ]
  },
  {
   "cell_type": "code",
   "execution_count": null,
   "id": "33464f69-a507-43d4-ae1d-8e1647aff850",
   "metadata": {},
   "outputs": [],
   "source": [
    "test"
   ]
  },
  {
   "cell_type": "code",
   "execution_count": null,
   "id": "cd5adf9c-a534-46f2-82fd-d37f617ce832",
   "metadata": {},
   "outputs": [],
   "source": [
    "\"\"\" Formula with fixed effects:\"\"\"\n",
    "formula = 'real_duty ~ duty_model + has_specific + adval + C(country) + C(naics)'"
   ]
  },
  {
   "cell_type": "code",
   "execution_count": null,
   "id": "e2c7a450-5fcc-4479-9364-e59d879536a0",
   "metadata": {
    "scrolled": true
   },
   "outputs": [],
   "source": [
    "\"\"\"  TRAINING THE MODEL  \"\"\"\n",
    "\n",
    "y, X = patsy.dmatrices(formula, data=train, return_type='dataframe')\n",
    "design_info = X.design_info # design_info è un attributo della design matrix\n",
    "regression_model = sm.OLS(y, X).fit()\n",
    "regression_model.summary()"
   ]
  },
  {
   "cell_type": "code",
   "execution_count": null,
   "id": "b2ad9ef2-93d2-4262-8d18-6d476deb6727",
   "metadata": {},
   "outputs": [],
   "source": [
    "\"\"\" Predict total duties for testing year.\"\"\"\n",
    "# Design and adjust the design matrix for testing_year.\n",
    "X_test = patsy.dmatrix(formula.split('~')[1],\n",
    "                       data=test,\n",
    "                       return_type='dataframe') # Extracting features only\n",
    "X_test_final = build_design_matrices([design_info], test)[0] # Copying structure and order of training matrix\n",
    "test['duty_predicted'] = regression_model.predict(X_test_final)"
   ]
  },
  {
   "cell_type": "code",
   "execution_count": null,
   "id": "bc125f38-e939-4466-b8bf-10f5314e39c4",
   "metadata": {},
   "outputs": [],
   "source": [
    "# VISUALIZATION.\n",
    "df_grouped = test.groupby('naics')[['duty_predicted', 'real_duty']].sum().reset_index()\n",
    "df_grouped = df_grouped.sort_values(by='real_duty', ascending=False)\n",
    "\n",
    "# DIAGNOSTIC PLOTS\n",
    "ax = subplots(figsize=(8,8))[1]\n",
    "ax.scatter(regression_model.fittedvalues, regression_model.resid)\n",
    "# residuals vs y^ or X is SLR\n",
    "ax.set_xlabel('Fitted value')\n",
    "ax.set_ylabel('Residual')\n",
    "ax.axhline(0, c='k', ls='--'); # horizontal black dashed line for reference"
   ]
  },
  {
   "cell_type": "code",
   "execution_count": null,
   "id": "931be1f6-70c0-48f6-9568-ec964475f22e",
   "metadata": {},
   "outputs": [],
   "source": [
    "infl = regression_model.get_influence()\n",
    "ax = subplots(figsize=(8,8))[1]\n",
    "\n",
    "ax.scatter(np.arange(X.shape[0]), infl.hat_matrix_diag)\n",
    "# X.shape[0] return 1st number in tuple returned by X.shape (aka no. of rows)\n",
    "# 2nd arg (attribute of 'infl') computes leverage statistic for any number of predictors\n",
    "\n",
    "ax.set_xlabel('Index')\n",
    "ax.set_ylabel('Leverage')\n",
    "np.argmax(infl.hat_matrix_diag) # Identify the index of the largest element of an array"
   ]
  },
  {
   "cell_type": "markdown",
   "id": "fad4a804-9054-4049-9914-f2a52a61d0f4",
   "metadata": {},
   "source": [
    "What do we conclude from the graph?"
   ]
  },
  {
   "cell_type": "code",
   "execution_count": null,
   "id": "2baee228-44e5-4178-9db2-344b6b59b887",
   "metadata": {},
   "outputs": [],
   "source": [
    "sns.set_style(\"whitegrid\")\n",
    "x = range(len(df_grouped)) # Number of naics codes\n",
    "\n",
    "plt.bar(x, df_grouped['real_duty'], color='steelblue', width=0.4, label='Real Duties')\n",
    "plt.bar([i + 0.4 for i in x], df_grouped['duty_predicted'], color='firebrick', width=0.4, label='Duties Estimated by OLS')\n",
    "plt.xticks([i + 0.2 for i in x], df_grouped['naics'], rotation=90)\n",
    "\n",
    "plt.ylabel('Total Duties (USD)')\n",
    "plt.xlabel('Industry (NAICS4)')\n",
    "plt.title('Real vs Estimated Duties per Industry')\n",
    "plt.legend()\n",
    "plt.tight_layout()\n",
    "plt.show();"
   ]
  },
  {
   "cell_type": "markdown",
   "id": "e52a0f16-cc7f-4613-8460-a03c5bc740e1",
   "metadata": {},
   "source": [
    "#### It might be the case to look at specific critical sectors for override + interesting to implement TPU"
   ]
  }
 ],
 "metadata": {
  "kernelspec": {
   "display_name": "Python 3 (ipykernel)",
   "language": "python",
   "name": "python3"
  },
  "language_info": {
   "codemirror_mode": {
    "name": "ipython",
    "version": 3
   },
   "file_extension": ".py",
   "mimetype": "text/x-python",
   "name": "python",
   "nbconvert_exporter": "python",
   "pygments_lexer": "ipython3",
   "version": "3.11.9"
  }
 },
 "nbformat": 4,
 "nbformat_minor": 5
}
