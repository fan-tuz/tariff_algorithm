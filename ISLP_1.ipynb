{
 "cells": [
  {
   "cell_type": "code",
   "execution_count": null,
   "id": "45ceac38-2154-4d6f-9b58-45b0a05d45e2",
   "metadata": {},
   "outputs": [],
   "source": [
    "import numpy as np"
   ]
  },
  {
   "cell_type": "code",
   "execution_count": null,
   "id": "b41d4a17-82d7-4db3-a6ac-a5ed95bd7857",
   "metadata": {},
   "outputs": [],
   "source": [
    "x = np.random.normal(loc=0, scale=1, size=50) # mean, var and n of elements"
   ]
  },
  {
   "cell_type": "code",
   "execution_count": null,
   "id": "05e48f72-f43e-40fb-8a72-639aac21fbef",
   "metadata": {},
   "outputs": [],
   "source": [
    "x.mean()"
   ]
  },
  {
   "cell_type": "code",
   "execution_count": null,
   "id": "c68864b5-c1c1-4b79-a3ec-b55ab38697b0",
   "metadata": {},
   "outputs": [],
   "source": [
    "y = x + np.random.normal(loc=50, scale=1, size=50)"
   ]
  },
  {
   "cell_type": "code",
   "execution_count": null,
   "id": "2d327e01-e1f5-4c2a-a1e2-0adc91d99838",
   "metadata": {},
   "outputs": [],
   "source": [
    "np.corrcoef(x,y)"
   ]
  },
  {
   "cell_type": "code",
   "execution_count": null,
   "id": "a6a59d87-4b8d-4830-a986-704492069c78",
   "metadata": {},
   "outputs": [],
   "source": [
    "x.ndim # attribute"
   ]
  },
  {
   "cell_type": "code",
   "execution_count": null,
   "id": "24587f31-b536-491b-930c-eedd3328b741",
   "metadata": {},
   "outputs": [],
   "source": [
    "rng = np.random.default_rng(1303) # setting seed\n",
    "print(rng.normal(scale=5, size=2))\n",
    "rng2 = np.random.default_rng(1303)\n",
    "print(rng2.normal(scale=5, size=2))"
   ]
  },
  {
   "cell_type": "code",
   "execution_count": null,
   "id": "b6514c49-19f9-45a2-ade9-5ba8382654ea",
   "metadata": {},
   "outputs": [],
   "source": [
    "rng = np.random.default_rng(3)\n",
    "y = rng.standard_normal(10)\n",
    "np.mean(y), y.mean()"
   ]
  },
  {
   "cell_type": "code",
   "execution_count": null,
   "id": "4c4a6836-c6a1-4f59-b290-d2c3d93e0762",
   "metadata": {},
   "outputs": [],
   "source": [
    "np.var(y), y.var(), np.mean((y - y.mean())**2)"
   ]
  },
  {
   "cell_type": "code",
   "execution_count": null,
   "id": "8c4426cf-a0bb-4885-a3af-d5627a8cfc5a",
   "metadata": {},
   "outputs": [],
   "source": [
    "# ddof argument -> variance is computed dividing by n, not n-1"
   ]
  },
  {
   "cell_type": "code",
   "execution_count": null,
   "id": "f8f5ceea-c50d-44be-88d8-d7b3a888c098",
   "metadata": {},
   "outputs": [],
   "source": [
    "# np.var?"
   ]
  },
  {
   "cell_type": "code",
   "execution_count": null,
   "id": "5ece2978-8f21-402e-a630-f80324659876",
   "metadata": {},
   "outputs": [],
   "source": [
    "np.sqrt(np.var(y)), np.std(y)"
   ]
  },
  {
   "cell_type": "code",
   "execution_count": null,
   "id": "e7292feb-dff3-474f-9dc2-c84e4c1f2b2e",
   "metadata": {},
   "outputs": [],
   "source": [
    "# 10 x 3 matrix of N(0,1) random variables"
   ]
  },
  {
   "cell_type": "code",
   "execution_count": null,
   "id": "f4cf4928-433a-4782-ba9d-51aa88a52028",
   "metadata": {},
   "outputs": [],
   "source": [
    "X = rng.standard_normal((10, 3))\n",
    "X"
   ]
  },
  {
   "cell_type": "code",
   "execution_count": null,
   "id": "63c9d40c-275f-413a-8a64-13f3a8a2692d",
   "metadata": {},
   "outputs": [],
   "source": [
    "X.sum(axis=0) # rows, as arrays are row-major ordered"
   ]
  },
  {
   "cell_type": "code",
   "execution_count": null,
   "id": "75d6c27c-a039-4524-8c73-80bc87fd399c",
   "metadata": {},
   "outputs": [],
   "source": [
    "X.mean(0)"
   ]
  },
  {
   "cell_type": "code",
   "execution_count": null,
   "id": "c60b7f7a-ff2f-4dfc-a7a8-ec478aee14c4",
   "metadata": {},
   "outputs": [],
   "source": [
    "# Note that in matplotlib, the word axes is not the plural of axis: a\n",
    "# plot’s axes contains much more information than just the x-axis and the\n",
    "# y-axis"
   ]
  },
  {
   "cell_type": "code",
   "execution_count": null,
   "id": "72200117-bb44-445e-8533-aae5a9802a5d",
   "metadata": {},
   "outputs": [],
   "source": [
    "from matplotlib.pyplot import subplots\n",
    "fig, ax = subplots(figsize=(8, 8))\n",
    "x = rng.standard_normal(100)\n",
    "y = rng.standard_normal(100)\n",
    "ax.plot(x, y); # the ; prevents matplotlib to print text to the notebook"
   ]
  },
  {
   "cell_type": "code",
   "execution_count": null,
   "id": "92a68128-c861-4e77-b21d-ea07d17bf847",
   "metadata": {},
   "outputs": [],
   "source": [
    "fig, ax = subplots(figsize=(8, 8))\n",
    "ax.plot(x, y, 'o'); # scatterplot"
   ]
  },
  {
   "cell_type": "code",
   "execution_count": null,
   "id": "f96570da-0745-4d49-a10a-8518eba52a3f",
   "metadata": {},
   "outputs": [],
   "source": [
    "# Alternative\n",
    "fig, ax = subplots(figsize=(8, 8))\n",
    "ax.scatter(x, y, marker='o')\n",
    "ax.set_xlabel(\"this is the x-axis\")\n",
    "ax.set_ylabel(\"this is the y-axis\")\n",
    "ax.set_title(\"Plot of X vs Y\");"
   ]
  },
  {
   "cell_type": "code",
   "execution_count": null,
   "id": "cc9111a6-c318-4a99-a77a-a1ad8fd9adec",
   "metadata": {},
   "outputs": [],
   "source": [
    "fig.set_size_inches(12,3)\n",
    "fig"
   ]
  },
  {
   "cell_type": "code",
   "execution_count": null,
   "id": "f4e656e2-a3b8-44ef-b8c6-61bf734b988e",
   "metadata": {},
   "outputs": [],
   "source": [
    "fig, axes = subplots(nrows=2,\n",
    "                     ncols=3,\n",
    "                     figsize=(15, 5))\n",
    "# If graphs share x-axis -> sharex=True"
   ]
  },
  {
   "cell_type": "code",
   "execution_count": null,
   "id": "8c0c35fd-3728-4335-b5ca-eb32e1840d9f",
   "metadata": {},
   "outputs": [],
   "source": [
    "axes[0,1].plot(x, y, 'o')\n",
    "axes[1,2].scatter(x, y, marker='+')\n",
    "fig"
   ]
  },
  {
   "cell_type": "code",
   "execution_count": null,
   "id": "9e71c6f1-8123-4e2a-bf94-65f031aa5ccb",
   "metadata": {},
   "outputs": [],
   "source": [
    "# dpi determines pixels\n",
    "# fig.savefig(\"Figure.png\", dpi=400)\n",
    "# fig.savefig(\"Figure.pdf\", dpi=200);"
   ]
  },
  {
   "cell_type": "code",
   "execution_count": null,
   "id": "8f31aa59-d346-44e5-8b2a-c3cf3ea60128",
   "metadata": {},
   "outputs": [],
   "source": [
    "axes[0,1].set_xlim([-1,1])"
   ]
  },
  {
   "cell_type": "code",
   "execution_count": null,
   "id": "48d8b51f-ebef-4349-a43d-9b02e12c7931",
   "metadata": {},
   "outputs": [],
   "source": [
    "# contour plot in order to represent three-dimensional data"
   ]
  },
  {
   "cell_type": "code",
   "execution_count": null,
   "id": "1e9468c6-77c9-4cee-bef8-a499a827ec57",
   "metadata": {},
   "outputs": [],
   "source": [
    "fig, ax = subplots(figsize=(8, 8))\n",
    "x = np.linspace(-np.pi, np.pi, 50) # returns a vector of 50 numbers in between a and b\n",
    "y=x\n",
    "\n",
    "f = np.multiply.outer(np.cos(y), 1 / (1 + x**2)) # f is a matrix whose elements correspond to the z value\n",
    "# (the third dimension) for each pair of (x,y) coordinates\n",
    "\n",
    "ax.contour(x, y, f, levels=45);"
   ]
  },
  {
   "cell_type": "code",
   "execution_count": null,
   "id": "ecfd78ce-a076-4ce7-9871-6511898448b0",
   "metadata": {},
   "outputs": [],
   "source": [
    "fig, ax = subplots(figsize=(8, 8))\n",
    "ax.imshow(f);\n",
    "# color-coded plot whose colors depend on the z value -> heatmap"
   ]
  },
  {
   "cell_type": "code",
   "execution_count": null,
   "id": "f40961de-51d7-4554-a915-5a71294f626b",
   "metadata": {},
   "outputs": [],
   "source": [
    "seq2 = np.arange(0, 10) # 10 is not included"
   ]
  },
  {
   "cell_type": "code",
   "execution_count": null,
   "id": "85ae008e-ac7c-4598-9dd6-da5cd06cdfd0",
   "metadata": {},
   "outputs": [],
   "source": [
    "A = np.array(np.arange(16)).reshape((4, 4))"
   ]
  },
  {
   "cell_type": "code",
   "execution_count": null,
   "id": "28eff85a-5fd2-48ed-8bc3-df584da30126",
   "metadata": {},
   "outputs": [],
   "source": [
    "A[2,2]\n",
    "A[[1,3]] # get 2nd and third row"
   ]
  },
  {
   "cell_type": "code",
   "execution_count": null,
   "id": "cff7426d-77e4-41c9-b79c-b792a11a9106",
   "metadata": {},
   "outputs": [],
   "source": [
    "A[:,[0,2]] # \":\" selects all rows"
   ]
  },
  {
   "cell_type": "code",
   "execution_count": null,
   "id": "2b959fc4-d8e2-4fc5-b4ff-30bce31197e1",
   "metadata": {},
   "outputs": [],
   "source": [
    "A[[1,3],[0,2]] # as in R -> we get A[1,0] and A[3,2]"
   ]
  },
  {
   "cell_type": "code",
   "execution_count": null,
   "id": "06712380-3605-46a8-849d-eb9d3c04d454",
   "metadata": {},
   "outputs": [],
   "source": [
    "# Extracting a submatrix\n",
    "A[[1,3]][:,[0,2]]"
   ]
  },
  {
   "cell_type": "code",
   "execution_count": null,
   "id": "3380ec50-e96c-4b61-86ef-607d341c22b7",
   "metadata": {},
   "outputs": [],
   "source": [
    "# Better alternative\n",
    "idx = np.ix_([1,3],[0,2,3])\n",
    "A[idx]"
   ]
  },
  {
   "cell_type": "code",
   "execution_count": null,
   "id": "92ae349f-6e85-410a-a60f-9a140802e8e6",
   "metadata": {},
   "outputs": [],
   "source": [
    "A[1:4:2,0:3:2] # subset matrices using slices"
   ]
  },
  {
   "cell_type": "code",
   "execution_count": null,
   "id": "3544f17f-ad59-48ee-8243-c9a52ed518eb",
   "metadata": {},
   "outputs": [],
   "source": [
    "keep_rows = np.zeros(A.shape[0], bool)\n",
    "keep_rows # vector of 0’s, represented as Booleans, of length equal to the first dimension of A -> we are considering rows (0)"
   ]
  },
  {
   "cell_type": "code",
   "execution_count": null,
   "id": "d7106c31-28b8-4076-aefd-3bff138bc9ae",
   "metadata": {},
   "outputs": [],
   "source": [
    "keep_rows[[1,3]] = True\n",
    "keep_rows"
   ]
  },
  {
   "cell_type": "code",
   "execution_count": null,
   "id": "e3971953-b0aa-4a8f-bc7f-c613b2781f98",
   "metadata": {},
   "outputs": [],
   "source": [
    "np.all(keep_rows == np.array([0,1,0,1]))\n",
    "# np.any can be used to check whether ANY entries of an array are True"
   ]
  },
  {
   "cell_type": "code",
   "execution_count": null,
   "id": "2941b2f9-16b3-4de3-91c7-ea79fc12583b",
   "metadata": {},
   "outputs": [],
   "source": [
    "A[np.array([0,1,0,1])], A[np.array([0,1,0,1])]\n",
    "# They are equal but different when indexing."
   ]
  },
  {
   "cell_type": "code",
   "execution_count": null,
   "id": "5cce0bdb-06e5-489c-b54e-1113cbf14b2f",
   "metadata": {},
   "outputs": [],
   "source": [
    "keep_cols = np.zeros(A.shape[1], bool)\n",
    "keep_cols[[0, 2, 3]] = True\n",
    "idx_bool = np.ix_(keep_rows, keep_cols)\n",
    "A[idx_bool]"
   ]
  },
  {
   "cell_type": "code",
   "execution_count": null,
   "id": "d2bddfac-f7a3-4039-a7ca-6f9a6e11e830",
   "metadata": {},
   "outputs": [],
   "source": [
    "idx_mixed = np.ix_([1,3], keep_cols)\n",
    "A[idx_mixed]"
   ]
  },
  {
   "cell_type": "code",
   "execution_count": null,
   "id": "631451e7-2e9b-479a-a468-6523e3982e21",
   "metadata": {},
   "outputs": [],
   "source": [
    "import pandas as pd"
   ]
  },
  {
   "cell_type": "code",
   "execution_count": null,
   "id": "ba4ef7ed-ff3e-42e8-a075-b3194e4d1f38",
   "metadata": {},
   "outputs": [],
   "source": [
    "df = pd.read_csv('Auto.csv')"
   ]
  },
  {
   "cell_type": "code",
   "execution_count": null,
   "id": "3cfc69b1-37dd-4eed-ad06-8239f709d4e5",
   "metadata": {},
   "outputs": [],
   "source": [
    "Auto = pd.read_csv('Auto.data',\n",
    "                   delim_whitespace=True,\n",
    "                  na_values=['?']) # whitespace delimited version of the data"
   ]
  },
  {
   "cell_type": "code",
   "execution_count": null,
   "id": "8b58f444-878a-4da8-8e4d-3d7ba1007512",
   "metadata": {},
   "outputs": [],
   "source": [
    "np.unique(Auto['horsepower']) # values as strings bc NaN is written as \"?\" -> change importing statement"
   ]
  },
  {
   "cell_type": "code",
   "execution_count": null,
   "id": "46f79856-0e56-4ecc-b4e0-64d6d35dce1b",
   "metadata": {},
   "outputs": [],
   "source": [
    "Auto['horsepower'].sum()"
   ]
  },
  {
   "cell_type": "code",
   "execution_count": null,
   "id": "2327f58c-a896-4f27-8807-07fef1c3306f",
   "metadata": {},
   "outputs": [],
   "source": [
    "auto_new = Auto.dropna()"
   ]
  },
  {
   "cell_type": "code",
   "execution_count": null,
   "id": "b20ceb05-2f01-4370-902f-3f8b3da9599c",
   "metadata": {},
   "outputs": [],
   "source": [
    "Auto[:3] # first three rows"
   ]
  },
  {
   "cell_type": "code",
   "execution_count": null,
   "id": "843eeb01-be34-461a-a831-a43c1c9bc24f",
   "metadata": {},
   "outputs": [],
   "source": [
    "idx_80 = Auto['year'] > 80\n",
    "Auto.loc[idx_80, ['weight', 'origin']] # array of Booleans used to subset rows"
   ]
  },
  {
   "cell_type": "code",
   "execution_count": null,
   "id": "8837977e-dbb4-4aff-a8b9-caddb598daf6",
   "metadata": {},
   "outputs": [],
   "source": [
    "Auto.loc[lambda df: df['year']>80, ['weight', 'origin']]"
   ]
  },
  {
   "cell_type": "code",
   "execution_count": null,
   "id": "92ed3e94-bd4f-4633-8864-e22f3154b69c",
   "metadata": {},
   "outputs": [],
   "source": [
    "Auto.loc[lambda df: (df['year'] > 80) & (df['mpg'] > 30),\n",
    "            ['weight', 'origin']\n",
    "            ]"
   ]
  },
  {
   "cell_type": "code",
   "execution_count": null,
   "id": "bec33936-0c22-481b-98a2-6c3331a37e08",
   "metadata": {},
   "outputs": [],
   "source": [
    "Auto.loc[lambda df: (df['displacement'] < 300)\n",
    "    & (df.index.str.contains('ford')\n",
    "       | df.index.str.contains('datsun')),\n",
    "    ['weight', 'origin']\n",
    "    ]"
   ]
  },
  {
   "cell_type": "code",
   "execution_count": null,
   "id": "c949aaf6-e878-4dd7-9859-741074ea966a",
   "metadata": {},
   "outputs": [],
   "source": [
    "Auto[['mpg', 'horsepower']]"
   ]
  },
  {
   "cell_type": "code",
   "execution_count": null,
   "id": "c8eeafbd-2a1d-4b80-be48-424c5cc8e968",
   "metadata": {},
   "outputs": [],
   "source": [
    "Auto = Auto.set_index('name') # \"name\" is no longer in Auto.columns "
   ]
  },
  {
   "cell_type": "code",
   "execution_count": null,
   "id": "0cf47136-67ea-4540-a371-add40050528f",
   "metadata": {},
   "outputs": [],
   "source": [
    "rows = ['amc rebel sst', 'ford torino']\n",
    "Auto.loc[rows] # using a filter"
   ]
  },
  {
   "cell_type": "code",
   "execution_count": null,
   "id": "3296782a-02ea-47d2-82f5-0ba410bea9d0",
   "metadata": {},
   "outputs": [],
   "source": [
    "Auto.iloc[[3,4]]\n",
    "Auto.iloc[:,[0,2,3]]\n",
    "Auto.iloc[[3,4],[0,2,3]]"
   ]
  },
  {
   "cell_type": "code",
   "execution_count": null,
   "id": "52491eba-ecd1-40e5-b44b-bae73b8df71f",
   "metadata": {},
   "outputs": [],
   "source": [
    "Auto.loc['ford galaxie 500', ['mpg', 'origin']]"
   ]
  },
  {
   "cell_type": "code",
   "execution_count": null,
   "id": "7ef6e124-c5ab-4c36-9815-4832bd96a08f",
   "metadata": {},
   "outputs": [],
   "source": [
    "total = 0\n",
    "for value, weight in zip([2,3,19],\n",
    "                         [0.2,0.3,0.5]):\n",
    "    total += weight * value\n",
    "print('Weighted average is: {0}'.format(total))"
   ]
  },
  {
   "cell_type": "code",
   "execution_count": null,
   "id": "fd3f5986-89c4-4c9a-9f56-72bcd312cf9c",
   "metadata": {},
   "outputs": [],
   "source": [
    "# Create data frame whose percentage of missing values = 20%\n",
    "\n",
    "rng = np.random.default_rng(1)\n",
    "A = rng.standard_normal((127, 5))\n",
    "M = rng.choice([0, np.nan], p=[0.8,0.2], size=A.shape)\n",
    "A += M\n",
    "D = pd.DataFrame(A, columns=[\n",
    "    'food',\n",
    "    'bar',\n",
    "    'pickle',\n",
    "    'snack',\n",
    "    'popcorn'])\n",
    "D[:3]"
   ]
  },
  {
   "cell_type": "code",
   "execution_count": null,
   "id": "00151ef9-1de4-4283-810b-eed7583b9bd1",
   "metadata": {},
   "outputs": [],
   "source": [
    "for col in D.columns:\n",
    "    template = 'Column \"{0}\" has {1:.2%} missing values'\n",
    "    # the second argument should be expressed as a % with two decimal digits\n",
    "    print(template.format(col,\n",
    "                np.isnan(D[col]).mean()))"
   ]
  },
  {
   "cell_type": "code",
   "execution_count": null,
   "id": "a9aaeea3-445f-4786-b268-a0810eed4589",
   "metadata": {},
   "outputs": [],
   "source": [
    "ax = Auto.plot.scatter('horsepower', 'mpg');\n",
    "ax.set_title('Horsepower vs. MPG')\n",
    "fig = ax.figure\n",
    "fig.savefig('horsepower_mpg.png');"
   ]
  },
  {
   "cell_type": "code",
   "execution_count": null,
   "id": "e772d9ca-3685-4748-8ac5-065079ff3af4",
   "metadata": {},
   "outputs": [],
   "source": [
    "fig, axes = subplots(ncols=3, figsize=(15, 5))\n",
    "Auto.plot.scatter('horsepower', 'mpg', ax=axes[1]);"
   ]
  },
  {
   "cell_type": "code",
   "execution_count": null,
   "id": "bd83bde3-0e41-4ebf-a7c9-fcb03c6775bb",
   "metadata": {},
   "outputs": [],
   "source": [
    "Auto.cylinders.dtype"
   ]
  },
  {
   "cell_type": "code",
   "execution_count": null,
   "id": "f0d82f97-f9e9-44e8-a9f2-f28676eac936",
   "metadata": {},
   "outputs": [],
   "source": [
    "# Transform into a categorical vrb\n",
    "Auto.cylinders = pd.Series(Auto.cylinders, dtype='category')"
   ]
  },
  {
   "cell_type": "code",
   "execution_count": null,
   "id": "7c533f92-0496-4cfa-a604-3e81aab9f765",
   "metadata": {},
   "outputs": [],
   "source": [
    "fig, ax = subplots(figsize=(8, 8))\n",
    "Auto.boxplot('mpg', by='cylinders', ax=ax);"
   ]
  },
  {
   "cell_type": "code",
   "execution_count": null,
   "id": "0a5fd6a9-b9a5-4e09-9f4a-c62c854195a0",
   "metadata": {},
   "outputs": [],
   "source": [
    "fig, ax = subplots(figsize=(8, 8))\n",
    "Auto.hist('mpg', color='red', bins=30, ax=ax);"
   ]
  },
  {
   "cell_type": "code",
   "execution_count": null,
   "id": "da28c2ee-ba49-4d46-829d-498df35b3e03",
   "metadata": {},
   "outputs": [],
   "source": [
    "# function to create a scatterplot matrix to visualize all of the pairwise relationships between the columns in a df\n",
    "pd.plotting.scatter_matrix(Auto);"
   ]
  },
  {
   "cell_type": "code",
   "execution_count": null,
   "id": "712e9837-adde-4cbb-b998-1e318927a97b",
   "metadata": {},
   "outputs": [],
   "source": [
    "pd.plotting.scatter_matrix(Auto[['mpg',\n",
    "                                 'displacement',\n",
    "                                 'weight']]);"
   ]
  },
  {
   "cell_type": "code",
   "execution_count": null,
   "id": "29b4dd52-e635-47ca-a789-39e150623a97",
   "metadata": {},
   "outputs": [],
   "source": [
    "Auto[['mpg', 'weight']].describe()"
   ]
  },
  {
   "cell_type": "code",
   "execution_count": null,
   "id": "a5cc59f6-7c20-43b1-afdd-e08baba97f97",
   "metadata": {},
   "outputs": [],
   "source": [
    "credit = pd.read_csv('Credit.csv')"
   ]
  },
  {
   "cell_type": "code",
   "execution_count": null,
   "id": "18cd9a40-7846-4103-915e-42e0afae26af",
   "metadata": {},
   "outputs": [],
   "source": [
    "# Clear collinearity between limit and rating is spot -> still better to compute VIF\n",
    "pd.plotting.scatter_matrix(credit[['Income',\n",
    "                                   'Limit',\n",
    "                                   'Rating',\n",
    "                                   'Cards',\n",
    "                                   'Age']]);"
   ]
  },
  {
   "cell_type": "code",
   "execution_count": null,
   "id": "5a257ca8-bd11-418b-8135-2adb2e7d8a51",
   "metadata": {},
   "outputs": [],
   "source": []
  }
 ],
 "metadata": {
  "kernelspec": {
   "display_name": "Python (data_science)",
   "language": "python",
   "name": "data_science_env"
  },
  "language_info": {
   "codemirror_mode": {
    "name": "ipython",
    "version": 3
   },
   "file_extension": ".py",
   "mimetype": "text/x-python",
   "name": "python",
   "nbconvert_exporter": "python",
   "pygments_lexer": "ipython3",
   "version": "3.13.2"
  }
 },
 "nbformat": 4,
 "nbformat_minor": 5
}
