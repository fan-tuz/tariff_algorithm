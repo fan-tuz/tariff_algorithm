{
 "cells": [
  {
   "cell_type": "code",
   "execution_count": 1,
   "id": "08b3b68f-7975-4ec0-8b2c-a08f913e6621",
   "metadata": {},
   "outputs": [],
   "source": [
    "import numpy as np\n",
    "import pandas as pd\n",
    "from matplotlib.pyplot import subplots\n",
    "\n",
    "import statsmodels.api as sm\n",
    "\n",
    "from statsmodels.stats.outliers_influence \\\n",
    "import variance_inflation_factor as VIF\n",
    "from statsmodels.stats.anova import anova_lm\n",
    "\n",
    "from ISLP import load_data\n",
    "from ISLP.models import (ModelSpec as MS,\n",
    "summarize,\n",
    "poly)"
   ]
  },
  {
   "cell_type": "code",
   "execution_count": null,
   "id": "713b4aed-060e-4697-b3f7-935971466f9c",
   "metadata": {},
   "outputs": [],
   "source": [
    "# dir() provides a list of objects in a namespace"
   ]
  },
  {
   "cell_type": "code",
   "execution_count": null,
   "id": "2678cbf2-d03a-4bd7-8012-75c47bd8a8dd",
   "metadata": {},
   "outputs": [],
   "source": [
    "A = np.array([3,5,11])\n",
    "# dir(A)"
   ]
  },
  {
   "cell_type": "markdown",
   "id": "ba350e6d-3f78-4f2d-bf57-3b438a22325d",
   "metadata": {},
   "source": [
    "### Simple Linear Regression"
   ]
  },
  {
   "cell_type": "code",
   "execution_count": null,
   "id": "ac175c86-dd11-4b98-be92-c7b37fa328a3",
   "metadata": {},
   "outputs": [],
   "source": [
    "# We will construct model matrices / design matrices"
   ]
  },
  {
   "cell_type": "code",
   "execution_count": null,
   "id": "872e5e74-382c-4c42-9c60-9d0f2cc66954",
   "metadata": {},
   "outputs": [],
   "source": [
    "boston = pd.read_csv('Boston.csv')\n",
    "boston.columns"
   ]
  },
  {
   "cell_type": "code",
   "execution_count": null,
   "id": "a25e3f4c-8c9a-40a5-a797-aef7bbfeb3db",
   "metadata": {},
   "outputs": [],
   "source": [
    "# boston?"
   ]
  },
  {
   "cell_type": "code",
   "execution_count": null,
   "id": "6183932b-4d4d-4e39-a1ac-be75fedb9644",
   "metadata": {},
   "outputs": [],
   "source": [
    "boston.shape"
   ]
  },
  {
   "cell_type": "code",
   "execution_count": null,
   "id": "c0895692-48e9-4c62-92fc-5c4f8cb97be0",
   "metadata": {},
   "outputs": [],
   "source": [
    "boston.head(5)"
   ]
  },
  {
   "cell_type": "code",
   "execution_count": null,
   "id": "efd69d9d-92ef-40e8-8545-08397f948f00",
   "metadata": {},
   "outputs": [],
   "source": [
    "X = pd.DataFrame({'intercept': np.ones(boston.shape[0]),\n",
    "                  'lstat': boston['lstat']}) # Creating model matrix by hand. \n",
    "# 1 single predictor (lstat)\n",
    "X[:4]"
   ]
  },
  {
   "cell_type": "code",
   "execution_count": null,
   "id": "c2144ff9-5c6e-4253-8349-604d6898a398",
   "metadata": {},
   "outputs": [],
   "source": [
    "y = boston['medv']\n",
    "model = sm.OLS(y, X)\n",
    "results = model.fit()"
   ]
  },
  {
   "cell_type": "code",
   "execution_count": null,
   "id": "5788392c-8411-48f4-bc15-51a3675b9c0f",
   "metadata": {},
   "outputs": [],
   "source": [
    "summarize(results) # ISLP function"
   ]
  },
  {
   "cell_type": "code",
   "execution_count": null,
   "id": "9ca61ee7-7a90-4491-92c9-0d045a123e15",
   "metadata": {},
   "outputs": [],
   "source": [
    "results.summary()"
   ]
  },
  {
   "cell_type": "code",
   "execution_count": null,
   "id": "05d8b5de-a8d9-43bc-9c79-9c283f31fd24",
   "metadata": {},
   "outputs": [],
   "source": [
    "results.params"
   ]
  },
  {
   "cell_type": "markdown",
   "id": "2d14e546-9057-4d46-9313-782e94ecb7e3",
   "metadata": {},
   "source": [
    "#### More flexible way to construct a model matrix -> transform object"
   ]
  },
  {
   "cell_type": "code",
   "execution_count": null,
   "id": "10349bdd-1389-4293-82b5-382aaa359283",
   "metadata": {},
   "outputs": [],
   "source": [
    "design = MS(['lstat'])\n",
    "design = design.fit(boston) # here the transformation occurs, as specified in the transform obj\n",
    "X = design.transform(boston) # applies trans to the array of data and produces model matrix\n",
    "\n",
    "# Better way is combining: X = design.fit_transform(Boston)\n",
    "\n",
    "X[:4]"
   ]
  },
  {
   "cell_type": "markdown",
   "id": "f0d5fe28-2c03-4ba2-8089-8da1c87fe842",
   "metadata": {},
   "source": [
    "#### Make predictions"
   ]
  },
  {
   "cell_type": "code",
   "execution_count": null,
   "id": "e1689d50-3734-41b0-b8a7-8eecccf32e47",
   "metadata": {},
   "outputs": [],
   "source": [
    "new_df = pd.DataFrame({'lstat':[5, 10, 15]})\n",
    "newX = design.transform(new_df)\n",
    "\n",
    "predictions = results.get_prediction(newX);\n",
    "predictions.predicted_mean"
   ]
  },
  {
   "cell_type": "code",
   "execution_count": null,
   "id": "c8f3f68a-06e9-4049-a721-8ee9d1754b2b",
   "metadata": {},
   "outputs": [],
   "source": [
    "predictions.conf_int(alpha=0.05)"
   ]
  },
  {
   "cell_type": "markdown",
   "id": "61034d9d-3b0e-4480-afea-2ec6f1e63ee0",
   "metadata": {},
   "source": [
    "##### Computing prediction intervals by setting obs=True"
   ]
  },
  {
   "cell_type": "code",
   "execution_count": null,
   "id": "5dbcb6ee-caca-487b-9ad9-5670f023302c",
   "metadata": {},
   "outputs": [],
   "source": [
    "predictions.conf_int(obs=True, alpha=0.05)\n",
    "# Centered around the same point as CI but wider"
   ]
  },
  {
   "cell_type": "code",
   "execution_count": null,
   "id": "6e59df36-39af-438c-80d2-67c54cf5db5b",
   "metadata": {},
   "outputs": [],
   "source": [
    "def abline(ax, b, m, *args, **kwargs):\n",
    "    \"Add a line with slope m and intercept b to ax\"\n",
    "    xlim = ax.get_xlim()\n",
    "    ylim = [m * xlim[0] + b, m * xlim[1] + b]\n",
    "    ax.plot(xlim, ylim)"
   ]
  },
  {
   "cell_type": "code",
   "execution_count": null,
   "id": "ed26219b-bc98-426a-8b70-b168c464ec67",
   "metadata": {},
   "outputs": [],
   "source": [
    "ax = boston.plot.scatter('lstat', 'medv')\n",
    "abline(ax, results.params[0], results.params[1], 'r--', linewidth=3) ;\n",
    "# 0 is b (intercept) while 1 is m (slope)"
   ]
  },
  {
   "cell_type": "markdown",
   "id": "85296fb0-2a91-4720-8902-ec95a1e1d9c6",
   "metadata": {},
   "source": [
    "#### Diagnostic plots - is there evidence of non-linearity?"
   ]
  },
  {
   "cell_type": "code",
   "execution_count": null,
   "id": "ae06d770-7107-43be-9bc1-ca978dcd2872",
   "metadata": {},
   "outputs": [],
   "source": [
    "ax = subplots(figsize=(8,8))[1]\n",
    "ax.scatter(results.fittedvalues, results.resid) # residuals vs y^ or X is SLR\n",
    "ax.set_xlabel('Fitted value')\n",
    "ax.set_ylabel('Residual')\n",
    "ax.axhline(0, c='k', ls='--'); # horizontal black dashed line for reference"
   ]
  },
  {
   "cell_type": "code",
   "execution_count": null,
   "id": "e498f2af-9481-4bde-b477-9cba5cf847f2",
   "metadata": {},
   "outputs": [],
   "source": [
    "infl = results.get_influence()\n",
    "ax = subplots(figsize=(8,8))[1]\n",
    "\n",
    "ax.scatter(np.arange(X.shape[0]), infl.hat_matrix_diag)\n",
    "# X.shape[0] return 1st number in tuple returned by X.shape (aka no. of rows)\n",
    "# 2nd arg (attribute of 'infl') computes leverage statistic for any number of predictors\n",
    "\n",
    "ax.set_xlabel('Index')\n",
    "ax.set_ylabel('Leverage')\n",
    "np.argmax(infl.hat_matrix_diag) # Identify the index of the largest element of an array"
   ]
  },
  {
   "cell_type": "markdown",
   "id": "a6eaa7b7-59e0-43a8-af50-388221c82d94",
   "metadata": {},
   "source": [
    "### Multiple Linear Regression"
   ]
  },
  {
   "cell_type": "code",
   "execution_count": null,
   "id": "a50b1180-a45e-445c-8762-61d16237b5c0",
   "metadata": {},
   "outputs": [],
   "source": [
    "X = MS(['lstat', 'age']).fit_transform(boston) # construction of MM in 1 line.\n",
    "model1 = sm.OLS(y, X)\n",
    "results1 = model1.fit()\n",
    "summarize(results1)"
   ]
  },
  {
   "cell_type": "code",
   "execution_count": null,
   "id": "3be9e21f-0fbe-4fa6-8932-d8e1ee1dcef5",
   "metadata": {},
   "outputs": [],
   "source": [
    "# If p is very large\n",
    "terms = boston.columns.drop('medv')\n",
    "terms"
   ]
  },
  {
   "cell_type": "code",
   "execution_count": null,
   "id": "faa218fe-0d8c-44e6-8495-adb0908a2d9d",
   "metadata": {},
   "outputs": [],
   "source": [
    "X = MS(terms).fit_transform(boston)\n",
    "model = sm.OLS(y,X)\n",
    "results = model.fit()\n",
    "summarize(results)"
   ]
  },
  {
   "cell_type": "markdown",
   "id": "cf4beff3-fd1b-4e12-be78-6f0db1ecdc83",
   "metadata": {},
   "source": [
    "#### Removing one predictor"
   ]
  },
  {
   "cell_type": "code",
   "execution_count": null,
   "id": "becf1ca5-02ac-49f9-83ac-8f53f33034f9",
   "metadata": {},
   "outputs": [],
   "source": [
    "minus_age = boston.columns.drop(['medv', 'age'])\n",
    "Xma = MS(minus_age).fit_transform(boston)\n",
    "model1 = sm.OLS(y, Xma)\n",
    "summarize(model1.fit())"
   ]
  },
  {
   "cell_type": "code",
   "execution_count": null,
   "id": "2a2d7703-6130-4f1a-8529-27d2b8db6f93",
   "metadata": {},
   "outputs": [],
   "source": [
    "# dir(results)"
   ]
  },
  {
   "cell_type": "code",
   "execution_count": null,
   "id": "d481a102-201d-498c-9676-6662726a1f5f",
   "metadata": {},
   "outputs": [],
   "source": [
    "results.rsquared # R^2"
   ]
  },
  {
   "cell_type": "code",
   "execution_count": null,
   "id": "f70a58f0-f8ad-4d2d-bd03-87c1aea6a5bd",
   "metadata": {},
   "outputs": [],
   "source": [
    "np.sqrt(results.scale) # RSE"
   ]
  },
  {
   "cell_type": "markdown",
   "id": "9abb8e08-5752-4007-ba63-776f7d5d0e5e",
   "metadata": {},
   "source": [
    "#### Below, we compute the VIF for each feature in our X matrix and produce a data frame whose index agrees with the columns of X. The notion of list comprehension can often make such a task easier"
   ]
  },
  {
   "cell_type": "code",
   "execution_count": null,
   "id": "78c8c1ac-9a66-4239-a718-6c5073c1ca3a",
   "metadata": {},
   "outputs": [],
   "source": [
    "vals = [VIF(X, i)\n",
    "        for i in range(1, X.shape[1])]\n",
    "# VIF() takes a df/array and a variable column index\n",
    "\n",
    "vif = pd.DataFrame({'VIF':vals},\n",
    "                   index=X.columns[1:])\n",
    "vif"
   ]
  },
  {
   "cell_type": "markdown",
   "id": "4efa7947-c4b0-41f0-9fe5-52b319dfb9fe",
   "metadata": {},
   "source": [
    "### Including Interaction Terms"
   ]
  },
  {
   "cell_type": "code",
   "execution_count": null,
   "id": "c912fc77-fc3c-4faa-9d1f-360ff4c3f55f",
   "metadata": {},
   "outputs": [],
   "source": [
    "X = MS(['lstat',\n",
    "        'age',\n",
    "        ('lstat', 'age')]).fit_transform(boston) # tuple signals interaction\n",
    "model2 = sm.OLS(y, X)\n",
    "summarize(model2.fit())"
   ]
  },
  {
   "cell_type": "markdown",
   "id": "ff37bfc8-ef68-44ee-9275-cd32daaa5717",
   "metadata": {},
   "source": [
    "### Non-linear transformations of the predictors"
   ]
  },
  {
   "cell_type": "code",
   "execution_count": null,
   "id": "b4de3803-73ba-4f5f-a34c-acead4dedd24",
   "metadata": {},
   "outputs": [],
   "source": [
    "X = MS([poly('lstat', degree=2), 'age']).fit_transform(boston)\n",
    "model3 = sm.OLS(y, X)\n",
    "results3 = model3.fit()\n",
    "summarize(results3)"
   ]
  },
  {
   "cell_type": "code",
   "execution_count": null,
   "id": "ad94d8fe-e71d-440e-8c1d-bd7f729901bf",
   "metadata": {},
   "outputs": [],
   "source": [
    "anova_lm(results1, results3) # further quantify the extent to which the quadratic fit is superior to the linear fit"
   ]
  },
  {
   "cell_type": "markdown",
   "id": "588e3890-ceaa-4d10-a703-becaa6b4c229",
   "metadata": {},
   "source": [
    "##### anova_lm() performs a hyp test whose Ho is that the quadratic term in model3 is not needed. F-stat here is 177 and p-value=0.\n",
    "##### F-stat is the square of the t-stat for the quadratic term in the linear model summary for results3 - a consequence of the fact that these nested models differ by 1 degree of freedom.\n",
    "##### The function can take more than two inputs and compare every successive pair of models (explaining why the first row has NaNs)."
   ]
  },
  {
   "cell_type": "code",
   "execution_count": null,
   "id": "5ff441d1-ac2a-4980-abe0-f1f548b70489",
   "metadata": {},
   "outputs": [],
   "source": [
    "# I expect to find no pattern between residuals and the fitted values\n",
    "ax = subplots(figsize=(8,8))[1]\n",
    "ax.scatter(results3.fittedvalues , results3.resid)\n",
    "ax.set_xlabel('Fitted value')\n",
    "ax.set_ylabel('Residual')\n",
    "ax.axhline(0, c='k', ls='--')"
   ]
  },
  {
   "cell_type": "markdown",
   "id": "3446fce9-b372-46ef-a1c9-04bb2238fc70",
   "metadata": {},
   "source": [
    "### Qualitative predictors"
   ]
  },
  {
   "cell_type": "code",
   "execution_count": null,
   "id": "479fb9e9-13a3-4a08-869f-bf971ec2fb35",
   "metadata": {},
   "outputs": [],
   "source": [
    "Carseats = load_data('Carseats') # easier importing (ISLP module)\n",
    "Carseats.columns"
   ]
  },
  {
   "cell_type": "code",
   "execution_count": null,
   "id": "ee5f3a52-4b75-4316-8814-8620732f48b2",
   "metadata": {},
   "outputs": [],
   "source": [
    "Carseats.head(5)"
   ]
  },
  {
   "cell_type": "markdown",
   "id": "8a5a90d9-ec27-4c61-8da7-a84f55c9e17d",
   "metadata": {},
   "source": [
    "#### One-hot encoding of the categorical feature -> MS() generates dummy variables automatically.\n",
    "#### Their columns sum to one, so to avoid collinearity with an intercept, the first column is dropped (aka ShelveLoc[Bad] which corresponds to a zero of both Good and Medium)"
   ]
  },
  {
   "cell_type": "code",
   "execution_count": null,
   "id": "4c1d69c3-ce15-4b16-88f2-607377d3d690",
   "metadata": {},
   "outputs": [],
   "source": [
    "allvars = list(Carseats.columns.drop('Sales'))\n",
    "y = Carseats['Sales']\n",
    "final = allvars + [('Income', 'Advertising'),\n",
    "                   ('Price', 'Age')] # Coding an interaction term"
   ]
  },
  {
   "cell_type": "code",
   "execution_count": null,
   "id": "40235830-297a-4f6e-8e12-72f600796df9",
   "metadata": {},
   "outputs": [],
   "source": [
    "X = MS(final).fit_transform(Carseats)\n",
    "model = sm.OLS(y, X)\n",
    "summarize(model.fit())"
   ]
  }
 ],
 "metadata": {
  "kernelspec": {
   "display_name": "Python 3 (ipykernel)",
   "language": "python",
   "name": "python3"
  },
  "language_info": {
   "codemirror_mode": {
    "name": "ipython",
    "version": 3
   },
   "file_extension": ".py",
   "mimetype": "text/x-python",
   "name": "python",
   "nbconvert_exporter": "python",
   "pygments_lexer": "ipython3",
   "version": "3.11.9"
  }
 },
 "nbformat": 4,
 "nbformat_minor": 5
}
